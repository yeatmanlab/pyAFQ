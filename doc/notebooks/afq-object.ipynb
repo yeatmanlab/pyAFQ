{
 "cells": [
  {
   "cell_type": "code",
   "execution_count": 10,
   "metadata": {
    "collapsed": true
   },
   "outputs": [],
   "source": [
    "import sys \n",
    "sys.path.append('../../')"
   ]
  },
  {
   "cell_type": "code",
   "execution_count": 1,
   "metadata": {
    "collapsed": false
   },
   "outputs": [],
   "source": [
    "from AFQ import api"
   ]
  },
  {
   "cell_type": "code",
   "execution_count": 2,
   "metadata": {
    "collapsed": false
   },
   "outputs": [
    {
     "data": {
      "text/plain": [
       "AFQ.api.AFQ"
      ]
     },
     "execution_count": 2,
     "metadata": {},
     "output_type": "execute_result"
    }
   ],
   "source": [
    "api.AFQ"
   ]
  },
  {
   "cell_type": "code",
   "execution_count": 3,
   "metadata": {
    "collapsed": true
   },
   "outputs": [],
   "source": [
    "import os.path as op\n",
    "import glob"
   ]
  },
  {
   "cell_type": "code",
   "execution_count": 4,
   "metadata": {
    "collapsed": false
   },
   "outputs": [],
   "source": [
    "preproc_path = op.join('/Users/arokem/projects/dipy-afq/','ds114-preproc/')\n",
    "raw_path = op.join('/Users/arokem/projects/dipy-afq/','ds114/')"
   ]
  },
  {
   "cell_type": "code",
   "execution_count": 5,
   "metadata": {
    "collapsed": false
   },
   "outputs": [
    {
     "data": {
      "text/plain": [
       "['/Users/arokem/projects/dipy-afq/ds114-preproc/sub-01',\n",
       " '/Users/arokem/projects/dipy-afq/ds114-preproc/sub-02']"
      ]
     },
     "execution_count": 5,
     "metadata": {},
     "output_type": "execute_result"
    }
   ],
   "source": [
    "glob.glob(preproc_path + '*sub*')"
   ]
  },
  {
   "cell_type": "code",
   "execution_count": 6,
   "metadata": {
    "collapsed": false
   },
   "outputs": [],
   "source": [
    "myafq = api.AFQ(preproc_path=preproc_path)"
   ]
  },
  {
   "cell_type": "code",
   "execution_count": 7,
   "metadata": {
    "collapsed": false
   },
   "outputs": [
    {
     "data": {
      "text/plain": [
       "(4, 6)"
      ]
     },
     "execution_count": 7,
     "metadata": {},
     "output_type": "execute_result"
    }
   ],
   "source": [
    "myafq.data_frame.shape"
   ]
  },
  {
   "cell_type": "code",
   "execution_count": 9,
   "metadata": {
    "collapsed": false
   },
   "outputs": [
    {
     "data": {
      "text/html": [
       "<div>\n",
       "<table border=\"1\" class=\"dataframe\">\n",
       "  <thead>\n",
       "    <tr style=\"text-align: right;\">\n",
       "      <th></th>\n",
       "      <th>anat_file</th>\n",
       "      <th>bval_file</th>\n",
       "      <th>bvec_file</th>\n",
       "      <th>dwi_file</th>\n",
       "      <th>sess</th>\n",
       "      <th>subjects</th>\n",
       "    </tr>\n",
       "  </thead>\n",
       "  <tbody>\n",
       "    <tr>\n",
       "      <th>2</th>\n",
       "      <td>/Users/arokem/projects/dipy-afq/ds114-preproc/...</td>\n",
       "      <td>/Users/arokem/projects/dipy-afq/ds114-preproc/...</td>\n",
       "      <td>/Users/arokem/projects/dipy-afq/ds114-preproc/...</td>\n",
       "      <td>/Users/arokem/projects/dipy-afq/ds114-preproc/...</td>\n",
       "      <td>/Users/arokem/projects/dipy-afq/ds114-preproc/...</td>\n",
       "      <td>sub-02</td>\n",
       "    </tr>\n",
       "    <tr>\n",
       "      <th>3</th>\n",
       "      <td>/Users/arokem/projects/dipy-afq/ds114-preproc/...</td>\n",
       "      <td>/Users/arokem/projects/dipy-afq/ds114-preproc/...</td>\n",
       "      <td>/Users/arokem/projects/dipy-afq/ds114-preproc/...</td>\n",
       "      <td>/Users/arokem/projects/dipy-afq/ds114-preproc/...</td>\n",
       "      <td>/Users/arokem/projects/dipy-afq/ds114-preproc/...</td>\n",
       "      <td>sub-02</td>\n",
       "    </tr>\n",
       "  </tbody>\n",
       "</table>\n",
       "</div>"
      ],
      "text/plain": [
       "                                           anat_file  \\\n",
       "2  /Users/arokem/projects/dipy-afq/ds114-preproc/...   \n",
       "3  /Users/arokem/projects/dipy-afq/ds114-preproc/...   \n",
       "\n",
       "                                           bval_file  \\\n",
       "2  /Users/arokem/projects/dipy-afq/ds114-preproc/...   \n",
       "3  /Users/arokem/projects/dipy-afq/ds114-preproc/...   \n",
       "\n",
       "                                           bvec_file  \\\n",
       "2  /Users/arokem/projects/dipy-afq/ds114-preproc/...   \n",
       "3  /Users/arokem/projects/dipy-afq/ds114-preproc/...   \n",
       "\n",
       "                                            dwi_file  \\\n",
       "2  /Users/arokem/projects/dipy-afq/ds114-preproc/...   \n",
       "3  /Users/arokem/projects/dipy-afq/ds114-preproc/...   \n",
       "\n",
       "                                                sess subjects  \n",
       "2  /Users/arokem/projects/dipy-afq/ds114-preproc/...   sub-02  \n",
       "3  /Users/arokem/projects/dipy-afq/ds114-preproc/...   sub-02  "
      ]
     },
     "execution_count": 17,
     "metadata": {},
     "output_type": "execute_result"
    }
   ],
   "source": [
    "sub_frame"
   ]
  },
  {
   "cell_type": "code",
   "execution_count": 37,
   "metadata": {
    "collapsed": false
   },
   "outputs": [],
   "source": [
    "myafq.data_frame['new_col']= 'foo'"
   ]
  },
  {
   "cell_type": "code",
   "execution_count": 38,
   "metadata": {
    "collapsed": false
   },
   "outputs": [
    {
     "data": {
      "text/html": [
       "<div>\n",
       "<table border=\"1\" class=\"dataframe\">\n",
       "  <thead>\n",
       "    <tr style=\"text-align: right;\">\n",
       "      <th></th>\n",
       "      <th>anat_file</th>\n",
       "      <th>bval_file</th>\n",
       "      <th>bvec_file</th>\n",
       "      <th>dwi_file</th>\n",
       "      <th>sess</th>\n",
       "      <th>subjects</th>\n",
       "      <th>gtab</th>\n",
       "      <th>new_col</th>\n",
       "    </tr>\n",
       "  </thead>\n",
       "  <tbody>\n",
       "    <tr>\n",
       "      <th>0</th>\n",
       "      <td>/Users/arokem/projects/dipy-afq/ds114-preproc/...</td>\n",
       "      <td>/Users/arokem/projects/dipy-afq/ds114-preproc/...</td>\n",
       "      <td>/Users/arokem/projects/dipy-afq/ds114-preproc/...</td>\n",
       "      <td>/Users/arokem/projects/dipy-afq/ds114-preproc/...</td>\n",
       "      <td>/Users/arokem/projects/dipy-afq/ds114-preproc/...</td>\n",
       "      <td>sub-01</td>\n",
       "      <td>&lt;dipy.core.gradients.GradientTable object at 0...</td>\n",
       "      <td>foo</td>\n",
       "    </tr>\n",
       "    <tr>\n",
       "      <th>1</th>\n",
       "      <td>/Users/arokem/projects/dipy-afq/ds114-preproc/...</td>\n",
       "      <td>/Users/arokem/projects/dipy-afq/ds114-preproc/...</td>\n",
       "      <td>/Users/arokem/projects/dipy-afq/ds114-preproc/...</td>\n",
       "      <td>/Users/arokem/projects/dipy-afq/ds114-preproc/...</td>\n",
       "      <td>/Users/arokem/projects/dipy-afq/ds114-preproc/...</td>\n",
       "      <td>sub-01</td>\n",
       "      <td>&lt;dipy.core.gradients.GradientTable object at 0...</td>\n",
       "      <td>foo</td>\n",
       "    </tr>\n",
       "    <tr>\n",
       "      <th>2</th>\n",
       "      <td>/Users/arokem/projects/dipy-afq/ds114-preproc/...</td>\n",
       "      <td>/Users/arokem/projects/dipy-afq/ds114-preproc/...</td>\n",
       "      <td>/Users/arokem/projects/dipy-afq/ds114-preproc/...</td>\n",
       "      <td>/Users/arokem/projects/dipy-afq/ds114-preproc/...</td>\n",
       "      <td>/Users/arokem/projects/dipy-afq/ds114-preproc/...</td>\n",
       "      <td>sub-02</td>\n",
       "      <td>&lt;dipy.core.gradients.GradientTable object at 0...</td>\n",
       "      <td>foo</td>\n",
       "    </tr>\n",
       "    <tr>\n",
       "      <th>3</th>\n",
       "      <td>/Users/arokem/projects/dipy-afq/ds114-preproc/...</td>\n",
       "      <td>/Users/arokem/projects/dipy-afq/ds114-preproc/...</td>\n",
       "      <td>/Users/arokem/projects/dipy-afq/ds114-preproc/...</td>\n",
       "      <td>/Users/arokem/projects/dipy-afq/ds114-preproc/...</td>\n",
       "      <td>/Users/arokem/projects/dipy-afq/ds114-preproc/...</td>\n",
       "      <td>sub-02</td>\n",
       "      <td>&lt;dipy.core.gradients.GradientTable object at 0...</td>\n",
       "      <td>foo</td>\n",
       "    </tr>\n",
       "  </tbody>\n",
       "</table>\n",
       "</div>"
      ],
      "text/plain": [
       "                                           anat_file  \\\n",
       "0  /Users/arokem/projects/dipy-afq/ds114-preproc/...   \n",
       "1  /Users/arokem/projects/dipy-afq/ds114-preproc/...   \n",
       "2  /Users/arokem/projects/dipy-afq/ds114-preproc/...   \n",
       "3  /Users/arokem/projects/dipy-afq/ds114-preproc/...   \n",
       "\n",
       "                                           bval_file  \\\n",
       "0  /Users/arokem/projects/dipy-afq/ds114-preproc/...   \n",
       "1  /Users/arokem/projects/dipy-afq/ds114-preproc/...   \n",
       "2  /Users/arokem/projects/dipy-afq/ds114-preproc/...   \n",
       "3  /Users/arokem/projects/dipy-afq/ds114-preproc/...   \n",
       "\n",
       "                                           bvec_file  \\\n",
       "0  /Users/arokem/projects/dipy-afq/ds114-preproc/...   \n",
       "1  /Users/arokem/projects/dipy-afq/ds114-preproc/...   \n",
       "2  /Users/arokem/projects/dipy-afq/ds114-preproc/...   \n",
       "3  /Users/arokem/projects/dipy-afq/ds114-preproc/...   \n",
       "\n",
       "                                            dwi_file  \\\n",
       "0  /Users/arokem/projects/dipy-afq/ds114-preproc/...   \n",
       "1  /Users/arokem/projects/dipy-afq/ds114-preproc/...   \n",
       "2  /Users/arokem/projects/dipy-afq/ds114-preproc/...   \n",
       "3  /Users/arokem/projects/dipy-afq/ds114-preproc/...   \n",
       "\n",
       "                                                sess subjects  \\\n",
       "0  /Users/arokem/projects/dipy-afq/ds114-preproc/...   sub-01   \n",
       "1  /Users/arokem/projects/dipy-afq/ds114-preproc/...   sub-01   \n",
       "2  /Users/arokem/projects/dipy-afq/ds114-preproc/...   sub-02   \n",
       "3  /Users/arokem/projects/dipy-afq/ds114-preproc/...   sub-02   \n",
       "\n",
       "                                                gtab new_col  \n",
       "0  <dipy.core.gradients.GradientTable object at 0...     foo  \n",
       "1  <dipy.core.gradients.GradientTable object at 0...     foo  \n",
       "2  <dipy.core.gradients.GradientTable object at 0...     foo  \n",
       "3  <dipy.core.gradients.GradientTable object at 0...     foo  "
      ]
     },
     "execution_count": 9,
     "metadata": {},
     "output_type": "execute_result"
    }
   ],
   "source": [
    "myafq.data_frame"
   ]
  },
  {
   "cell_type": "code",
   "execution_count": 9,
   "metadata": {
    "collapsed": false
   },
   "outputs": [
    {
     "data": {
      "text/plain": [
       "2    /Users/arokem/projects/dipy-afq/ds114-preproc/...\n",
       "3    /Users/arokem/projects/dipy-afq/ds114-preproc/...\n",
       "Name: dwi_file, dtype: object"
      ]
     },
     "execution_count": 9,
     "metadata": {},
     "output_type": "execute_result"
    }
   ],
   "source": [
    "myafq.data_frame.dwi_file[myafq.data_frame.subjects==\"sub-02\"]"
   ]
  },
  {
   "cell_type": "code",
   "execution_count": 10,
   "metadata": {
    "collapsed": false
   },
   "outputs": [
    {
     "name": "stderr",
     "output_type": "stream",
     "text": [
      "ERROR: No traceback has been produced, nothing to debug.\n"
     ]
    }
   ],
   "source": [
    "debug"
   ]
  },
  {
   "cell_type": "code",
   "execution_count": 11,
   "metadata": {
    "collapsed": false
   },
   "outputs": [
    {
     "data": {
      "text/plain": [
       "['sub-01', 'sub-02']"
      ]
     },
     "execution_count": 11,
     "metadata": {},
     "output_type": "execute_result"
    }
   ],
   "source": [
    "myafq.subjects"
   ]
  },
  {
   "cell_type": "code",
   "execution_count": 12,
   "metadata": {
    "collapsed": false
   },
   "outputs": [],
   "source": [
    "zz = zip([1,2,3], ['a', 'b', 'c'])"
   ]
  },
  {
   "cell_type": "code",
   "execution_count": 13,
   "metadata": {
    "collapsed": false
   },
   "outputs": [
    {
     "name": "stdout",
     "output_type": "stream",
     "text": [
      "1\n",
      "a\n",
      "2\n",
      "b\n",
      "3\n",
      "c\n"
     ]
    }
   ],
   "source": [
    "for number, letter in zz:\n",
    "    print(number)\n",
    "    print(letter)"
   ]
  },
  {
   "cell_type": "code",
   "execution_count": 14,
   "metadata": {
    "collapsed": false
   },
   "outputs": [
    {
     "data": {
      "text/html": [
       "<div>\n",
       "<table border=\"1\" class=\"dataframe\">\n",
       "  <thead>\n",
       "    <tr style=\"text-align: right;\">\n",
       "      <th></th>\n",
       "      <th>anat_file</th>\n",
       "      <th>bval_file</th>\n",
       "      <th>bvec_file</th>\n",
       "      <th>dwi_file</th>\n",
       "      <th>sess</th>\n",
       "      <th>subjects</th>\n",
       "    </tr>\n",
       "  </thead>\n",
       "  <tbody>\n",
       "    <tr>\n",
       "      <th>0</th>\n",
       "      <td>/Users/arokem/projects/dipy-afq/ds114-preproc/...</td>\n",
       "      <td>/Users/arokem/projects/dipy-afq/ds114-preproc/...</td>\n",
       "      <td>/Users/arokem/projects/dipy-afq/ds114-preproc/...</td>\n",
       "      <td>/Users/arokem/projects/dipy-afq/ds114-preproc/...</td>\n",
       "      <td>/Users/arokem/projects/dipy-afq/ds114-preproc/...</td>\n",
       "      <td>sub-01</td>\n",
       "    </tr>\n",
       "    <tr>\n",
       "      <th>1</th>\n",
       "      <td>/Users/arokem/projects/dipy-afq/ds114-preproc/...</td>\n",
       "      <td>/Users/arokem/projects/dipy-afq/ds114-preproc/...</td>\n",
       "      <td>/Users/arokem/projects/dipy-afq/ds114-preproc/...</td>\n",
       "      <td>/Users/arokem/projects/dipy-afq/ds114-preproc/...</td>\n",
       "      <td>/Users/arokem/projects/dipy-afq/ds114-preproc/...</td>\n",
       "      <td>sub-01</td>\n",
       "    </tr>\n",
       "    <tr>\n",
       "      <th>2</th>\n",
       "      <td>/Users/arokem/projects/dipy-afq/ds114-preproc/...</td>\n",
       "      <td>/Users/arokem/projects/dipy-afq/ds114-preproc/...</td>\n",
       "      <td>/Users/arokem/projects/dipy-afq/ds114-preproc/...</td>\n",
       "      <td>/Users/arokem/projects/dipy-afq/ds114-preproc/...</td>\n",
       "      <td>/Users/arokem/projects/dipy-afq/ds114-preproc/...</td>\n",
       "      <td>sub-02</td>\n",
       "    </tr>\n",
       "    <tr>\n",
       "      <th>3</th>\n",
       "      <td>/Users/arokem/projects/dipy-afq/ds114-preproc/...</td>\n",
       "      <td>/Users/arokem/projects/dipy-afq/ds114-preproc/...</td>\n",
       "      <td>/Users/arokem/projects/dipy-afq/ds114-preproc/...</td>\n",
       "      <td>/Users/arokem/projects/dipy-afq/ds114-preproc/...</td>\n",
       "      <td>/Users/arokem/projects/dipy-afq/ds114-preproc/...</td>\n",
       "      <td>sub-02</td>\n",
       "    </tr>\n",
       "  </tbody>\n",
       "</table>\n",
       "</div>"
      ],
      "text/plain": [
       "                                           anat_file  \\\n",
       "0  /Users/arokem/projects/dipy-afq/ds114-preproc/...   \n",
       "1  /Users/arokem/projects/dipy-afq/ds114-preproc/...   \n",
       "2  /Users/arokem/projects/dipy-afq/ds114-preproc/...   \n",
       "3  /Users/arokem/projects/dipy-afq/ds114-preproc/...   \n",
       "\n",
       "                                           bval_file  \\\n",
       "0  /Users/arokem/projects/dipy-afq/ds114-preproc/...   \n",
       "1  /Users/arokem/projects/dipy-afq/ds114-preproc/...   \n",
       "2  /Users/arokem/projects/dipy-afq/ds114-preproc/...   \n",
       "3  /Users/arokem/projects/dipy-afq/ds114-preproc/...   \n",
       "\n",
       "                                           bvec_file  \\\n",
       "0  /Users/arokem/projects/dipy-afq/ds114-preproc/...   \n",
       "1  /Users/arokem/projects/dipy-afq/ds114-preproc/...   \n",
       "2  /Users/arokem/projects/dipy-afq/ds114-preproc/...   \n",
       "3  /Users/arokem/projects/dipy-afq/ds114-preproc/...   \n",
       "\n",
       "                                            dwi_file  \\\n",
       "0  /Users/arokem/projects/dipy-afq/ds114-preproc/...   \n",
       "1  /Users/arokem/projects/dipy-afq/ds114-preproc/...   \n",
       "2  /Users/arokem/projects/dipy-afq/ds114-preproc/...   \n",
       "3  /Users/arokem/projects/dipy-afq/ds114-preproc/...   \n",
       "\n",
       "                                                sess subjects  \n",
       "0  /Users/arokem/projects/dipy-afq/ds114-preproc/...   sub-01  \n",
       "1  /Users/arokem/projects/dipy-afq/ds114-preproc/...   sub-01  \n",
       "2  /Users/arokem/projects/dipy-afq/ds114-preproc/...   sub-02  \n",
       "3  /Users/arokem/projects/dipy-afq/ds114-preproc/...   sub-02  "
      ]
     },
     "execution_count": 14,
     "metadata": {},
     "output_type": "execute_result"
    }
   ],
   "source": [
    "myafq.data_frame"
   ]
  },
  {
   "cell_type": "code",
   "execution_count": null,
   "metadata": {
    "collapsed": false
   },
   "outputs": [],
   "source": [
    ""
   ]
  },
  {
   "cell_type": "code",
   "execution_count": 15,
   "metadata": {
    "collapsed": false
   },
   "outputs": [
    {
     "data": {
      "text/html": [
       "<div>\n",
       "<table border=\"1\" class=\"dataframe\">\n",
       "  <thead>\n",
       "    <tr style=\"text-align: right;\">\n",
       "      <th></th>\n",
       "      <th>anat_file</th>\n",
       "      <th>bval_file</th>\n",
       "      <th>bvec_file</th>\n",
       "      <th>dwi_file</th>\n",
       "      <th>sess</th>\n",
       "      <th>subjects</th>\n",
       "    </tr>\n",
       "  </thead>\n",
       "  <tbody>\n",
       "    <tr>\n",
       "      <th>0</th>\n",
       "      <td>/Users/arokem/projects/dipy-afq/ds114-preproc/...</td>\n",
       "      <td>/Users/arokem/projects/dipy-afq/ds114-preproc/...</td>\n",
       "      <td>/Users/arokem/projects/dipy-afq/ds114-preproc/...</td>\n",
       "      <td>/Users/arokem/projects/dipy-afq/ds114-preproc/...</td>\n",
       "      <td>/Users/arokem/projects/dipy-afq/ds114-preproc/...</td>\n",
       "      <td>sub-01</td>\n",
       "    </tr>\n",
       "    <tr>\n",
       "      <th>1</th>\n",
       "      <td>/Users/arokem/projects/dipy-afq/ds114-preproc/...</td>\n",
       "      <td>/Users/arokem/projects/dipy-afq/ds114-preproc/...</td>\n",
       "      <td>/Users/arokem/projects/dipy-afq/ds114-preproc/...</td>\n",
       "      <td>/Users/arokem/projects/dipy-afq/ds114-preproc/...</td>\n",
       "      <td>/Users/arokem/projects/dipy-afq/ds114-preproc/...</td>\n",
       "      <td>sub-01</td>\n",
       "    </tr>\n",
       "    <tr>\n",
       "      <th>2</th>\n",
       "      <td>/Users/arokem/projects/dipy-afq/ds114-preproc/...</td>\n",
       "      <td>/Users/arokem/projects/dipy-afq/ds114-preproc/...</td>\n",
       "      <td>/Users/arokem/projects/dipy-afq/ds114-preproc/...</td>\n",
       "      <td>/Users/arokem/projects/dipy-afq/ds114-preproc/...</td>\n",
       "      <td>/Users/arokem/projects/dipy-afq/ds114-preproc/...</td>\n",
       "      <td>sub-02</td>\n",
       "    </tr>\n",
       "    <tr>\n",
       "      <th>3</th>\n",
       "      <td>/Users/arokem/projects/dipy-afq/ds114-preproc/...</td>\n",
       "      <td>/Users/arokem/projects/dipy-afq/ds114-preproc/...</td>\n",
       "      <td>/Users/arokem/projects/dipy-afq/ds114-preproc/...</td>\n",
       "      <td>/Users/arokem/projects/dipy-afq/ds114-preproc/...</td>\n",
       "      <td>/Users/arokem/projects/dipy-afq/ds114-preproc/...</td>\n",
       "      <td>sub-02</td>\n",
       "    </tr>\n",
       "  </tbody>\n",
       "</table>\n",
       "</div>"
      ],
      "text/plain": [
       "                                           anat_file  \\\n",
       "0  /Users/arokem/projects/dipy-afq/ds114-preproc/...   \n",
       "1  /Users/arokem/projects/dipy-afq/ds114-preproc/...   \n",
       "2  /Users/arokem/projects/dipy-afq/ds114-preproc/...   \n",
       "3  /Users/arokem/projects/dipy-afq/ds114-preproc/...   \n",
       "\n",
       "                                           bval_file  \\\n",
       "0  /Users/arokem/projects/dipy-afq/ds114-preproc/...   \n",
       "1  /Users/arokem/projects/dipy-afq/ds114-preproc/...   \n",
       "2  /Users/arokem/projects/dipy-afq/ds114-preproc/...   \n",
       "3  /Users/arokem/projects/dipy-afq/ds114-preproc/...   \n",
       "\n",
       "                                           bvec_file  \\\n",
       "0  /Users/arokem/projects/dipy-afq/ds114-preproc/...   \n",
       "1  /Users/arokem/projects/dipy-afq/ds114-preproc/...   \n",
       "2  /Users/arokem/projects/dipy-afq/ds114-preproc/...   \n",
       "3  /Users/arokem/projects/dipy-afq/ds114-preproc/...   \n",
       "\n",
       "                                            dwi_file  \\\n",
       "0  /Users/arokem/projects/dipy-afq/ds114-preproc/...   \n",
       "1  /Users/arokem/projects/dipy-afq/ds114-preproc/...   \n",
       "2  /Users/arokem/projects/dipy-afq/ds114-preproc/...   \n",
       "3  /Users/arokem/projects/dipy-afq/ds114-preproc/...   \n",
       "\n",
       "                                                sess subjects  \n",
       "0  /Users/arokem/projects/dipy-afq/ds114-preproc/...   sub-01  \n",
       "1  /Users/arokem/projects/dipy-afq/ds114-preproc/...   sub-01  \n",
       "2  /Users/arokem/projects/dipy-afq/ds114-preproc/...   sub-02  \n",
       "3  /Users/arokem/projects/dipy-afq/ds114-preproc/...   sub-02  "
      ]
     },
     "execution_count": 15,
     "metadata": {},
     "output_type": "execute_result"
    }
   ],
   "source": [
    "myafq.data_frame"
   ]
  },
  {
   "cell_type": "code",
   "execution_count": 16,
   "metadata": {
    "collapsed": false
   },
   "outputs": [
    {
     "ename": "NameError",
     "evalue": "name 'pd' is not defined",
     "traceback": [
      "\u001b[0;31m---------------------------------------------------------------------------\u001b[0m",
      "\u001b[0;31mNameError\u001b[0m                                 Traceback (most recent call last)",
      "\u001b[0;32m<ipython-input-16-6dc21102bc0a>\u001b[0m in \u001b[0;36m<module>\u001b[0;34m()\u001b[0m\n\u001b[0;32m----> 1\u001b[0;31m df = pd.DataFrame({'subjects':['sub-01', 'sub-01', 'sub-02', 'sub-02', ], \n\u001b[0m\u001b[1;32m      2\u001b[0m                    'sess': ['ses-test', 'ses-retest', 'ses-test','ses-retest'], 'md-arcuate-01': [0, 2, 4, 6 ], 'md-arcuate-02': [1, 3,5, 7]})\n",
      "\u001b[0;31mNameError\u001b[0m: name 'pd' is not defined"
     ],
     "output_type": "error"
    }
   ],
   "source": [
    "df = pd.DataFrame({'subjects':['sub-01', 'sub-01', 'sub-02', 'sub-02', ], \n",
    "                   'sess': ['ses-test', 'ses-retest', 'ses-test','ses-retest'], 'md-arcuate-01': [0, 2, 4, 6 ], 'md-arcuate-02': [1, 3,5, 7]})"
   ]
  },
  {
   "cell_type": "code",
   "execution_count": null,
   "metadata": {
    "collapsed": false
   },
   "outputs": [],
   "source": [
    "newdf = myafq.data_frame.merge(df, on=\"subjects\")"
   ]
  },
  {
   "cell_type": "code",
   "execution_count": null,
   "metadata": {
    "collapsed": false
   },
   "outputs": [],
   "source": [
    "newdf"
   ]
  },
  {
   "cell_type": "markdown",
   "metadata": {},
   "source": [
    "### Design considerations: \n",
    "\n",
    "We think that there could be a few different cases for the way data is layed out on disk: \n",
    "\n",
    "1. Each subject has just one diffusion measurement and one anatomy in a single session\n",
    "2. Subjects have multiple diffusion measurements: \n",
    "    - Either across different time-points (sessions; e.g., longitudinal), or:\n",
    "    - within every session: repeats of the same measurement, or different conditions (b-values, resolution, etc.)\n",
    "    \n",
    "\n",
    "We might choose to impose a file structure: \n",
    "\n",
    "1. T1w per subject (derived from whatever T1s you have in the original session)\n",
    "2. Only 1 diffusion nifti file"
   ]
  },
  {
   "cell_type": "code",
   "execution_count": null,
   "metadata": {
    "collapsed": false
   },
   "outputs": [],
   "source": [
    "glob.glob(preproc_path + '/*/*/*anat*')"
   ]
  },
  {
   "cell_type": "code",
   "execution_count": null,
   "metadata": {
    "collapsed": false
   },
   "outputs": [],
   "source": [
    ""
   ]
  },
  {
   "cell_type": "code",
   "execution_count": null,
   "metadata": {
    "collapsed": true
   },
   "outputs": [],
   "source": [
    "afq_with_raw = AFQ(raw_path, preproc_path)"
   ]
  },
  {
   "cell_type": "code",
   "execution_count": null,
   "metadata": {
    "collapsed": false
   },
   "outputs": [],
   "source": [
    "afq_no_raw = AFQ(preproc_path=preproc_path)"
   ]
  },
  {
   "cell_type": "code",
   "execution_count": null,
   "metadata": {
    "collapsed": false
   },
   "outputs": [],
   "source": [
    "afq_with_raw.preproc_path"
   ]
  },
  {
   "cell_type": "markdown",
   "metadata": {
    "collapsed": true
   },
   "source": [
    "### Preprocessing: \n",
    "\n",
    "1. Motion/Eddy current correction\n",
    "\n",
    "2. Fitting a model: \n",
    "    Create a new folder and put the parameters in there:\n",
    "        'ds114-preproc/sub-01/ses-retest/dwi/dti/sub01_ses-retest_dwi_dti_ls.nii.gz'\n",
    "    Have this file mem-mapped \n",
    "       \n",
    "3. Tractography\n",
    "    Create another sub-folder for that \n",
    "    \n",
    "4. Calculate derived statistics: \n",
    "       'ds114-preproc/sub-01/ses-retest/dwi/dti/sub01_ses-retest_dwi_dti_ls_fa.nii.gz'\n",
    "       'ds114-preproc/sub-01/ses-retest/dwi/dti/sub01_ses-retest_dwi_dti_ls_md.nii.gz'\n"
   ]
  }
 ],
 "metadata": {
  "kernelspec": {
   "display_name": "Python 3",
   "language": "python",
   "name": "python3"
  },
  "language_info": {
   "codemirror_mode": {
    "name": "ipython",
    "version": 3.0
   },
   "file_extension": ".py",
   "mimetype": "text/x-python",
   "name": "python",
   "nbconvert_exporter": "python",
   "pygments_lexer": "ipython3",
   "version": "3.5.1"
  }
 },
 "nbformat": 4,
 "nbformat_minor": 0
}