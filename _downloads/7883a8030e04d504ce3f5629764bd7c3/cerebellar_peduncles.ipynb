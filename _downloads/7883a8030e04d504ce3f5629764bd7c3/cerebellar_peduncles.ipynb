{
  "cells": [
    {
      "cell_type": "markdown",
      "metadata": {},
      "source": [
        "\n# Delineating cerebellar peduncles\n\nThe cerebellar peduncles are white matter tracts that connect the cerebellum to\nthe brainstem and cortex. In this example, we show how to delineate the\ncerebellar peduncles using a subject from the Healthy Brain Network dataset.\n\nThis how-to will focus on the definition of the Cerebellar Peduncles (CP) based\non [1]_, [2].\n"
      ]
    },
    {
      "cell_type": "code",
      "execution_count": null,
      "metadata": {
        "collapsed": false
      },
      "outputs": [],
      "source": [
        "import AFQ.data.fetch as afd\nimport AFQ.api.bundle_dict as abd\nfrom AFQ.api.group import GroupAFQ\nfrom AFQ.definitions.image import RoiImage, ImageFile\n\n\n\"\"\"\nWe will use a subject from the HBN dataset. When considering the data\nfor this operation, look to see whether the acquisition volume includes the\ncerbellum. If it does not, it will be hard to delineate the CPs.\n\"\"\"\n\nbids_path = afd.fetch_hbn_afq([\"NDARAA948VFH\"])[1]\n\n\"\"\"\nThe next line downloads the cerebellar peduncle templates from `Figshare <https://figshare.com/articles/dataset/Regions_of_interest_for_automated_fiber_quantification_of_cerebellar_bundles/23201630>`_.\n\n\"\"\"\n\ncp_rois = afd.read_cp_templates()\n\n\n\"\"\"\nThe following line defines a bundle dictionary for the cerebellar\npeduncles. There are three CPs: The ICP, the MCP, and the SCP. Each CP is\ndefined by two inclusion ROIs and one exclusion ROI. The Inferior CPs are\ndefined by inclusion ROIs. They do not decussate, so \"cross_midline\" is set to\nFalse. The Superior CPs are defined by two inclusion ROIs and an exclusion ROI,\nwhere each SCP's most superior inclusion ROI is the other SCP's exclusion ROI.\nThey decussate, so \"cross_midline\" is set to True. The Middle CPs are defined\nby two inclusion ROIs and they use the SCP intermediate ROIs as exclusion ROIs.\n\"\"\"\n\ncp_bundles = abd.cerebellar_bd()\n\n\"\"\"\nThe bundle dict has been defined, and now we are ready to run the AFQ pipeline.\nIn this case, we are using data that has been preprocessed with QSIprep, so\nwe have a brain mask that was generated from the T1w data of this subject.\n\"\"\"\n\nbrain_mask_definition = ImageFile(\n    suffix=\"mask\",\n    filters={'desc': 'brain',\n             'space': 'T1w',\n             'scope': 'qsiprep'})\n\n\n\"\"\"\nNext, we define a GroupAFQ object. In this case, the tracking parameters\nfocus specifically on the CP, by using the ``RoiImage`` class to define the\nseed region. We seed extensively in the ROIs that define the CPs.\n\"\"\"\n\ncp_afq = GroupAFQ(\n    name=\"cp_afq\",\n    bids_path=bids_path,\n    preproc_pipeline=\"qsiprep\",\n    brain_mask_definition=brain_mask_definition,\n    tracking_params={\n        \"n_seeds\": 4,\n        \"directions\": \"prob\",\n        \"odf_model\": \"CSD\",\n        \"seed_mask\": RoiImage()},\n    clip_edges=True,\n    bundle_info=cp_bundles)\n\n\n\"\"\"\nThe call to `export(\"bundles\")` triggers the execution of the full pipeline.\n\"\"\"\ncp_afq.export(\"bundles\")\n\n\"\"\"\n\nReferences\n----------\n.. [1] S. Jossinger, A. Sares, A. Zislis, D. Sury, V. Gracco, M. Ben-Shachar (2022)\n       White matter correlates of sensorimotor synchronization in persistent\n       developmental stuttering, Journal of Communication Disorders, 95.\n\n.. [2] S. Jossinger, M. Yablonski, O. Amir, M. Ben-Shachar (2023). The\n       contributions of the cerebellar peduncles and the frontal aslant tract\n       in mediating speech fluency. Neurobiology of Language 2023;\n       doi: https://doi.org/10.1162/nol_a_00098\n\n\"\"\""
      ]
    }
  ],
  "metadata": {
    "kernelspec": {
      "display_name": "Python 3",
      "language": "python",
      "name": "python3"
    },
    "language_info": {
      "codemirror_mode": {
        "name": "ipython",
        "version": 3
      },
      "file_extension": ".py",
      "mimetype": "text/x-python",
      "name": "python",
      "nbconvert_exporter": "python",
      "pygments_lexer": "ipython3",
      "version": "3.11.9"
    }
  },
  "nbformat": 4,
  "nbformat_minor": 0
}