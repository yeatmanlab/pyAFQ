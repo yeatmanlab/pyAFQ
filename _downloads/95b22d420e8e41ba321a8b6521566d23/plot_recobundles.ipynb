{
  "cells": [
    {
      "cell_type": "code",
      "execution_count": null,
      "metadata": {
        "collapsed": false
      },
      "outputs": [],
      "source": [
        "%matplotlib inline"
      ]
    },
    {
      "cell_type": "markdown",
      "metadata": {},
      "source": [
        "\n# Plotting tract profiles using RecoBundles\n\nAn example of tracking and segmenting two tracts with RecoBundles\n[Garyfallidis2017]_, and plotting their tract profiles for FA (calculated with\nDTI).\n\nSee `plot_tract_profile` for explanations of each stage here. The main\ndifference here is that segmentation uses the RecoBundles algorithm, instead of\nthe AFQ waypoint ROI approach.\n"
      ]
    },
    {
      "cell_type": "code",
      "execution_count": null,
      "metadata": {
        "collapsed": false
      },
      "outputs": [],
      "source": [
        "import os.path as op\nimport matplotlib.pyplot as plt\nimport numpy as np\nimport nibabel as nib\nimport dipy.data as dpd\nfrom dipy.data import fetcher\nimport dipy.tracking.utils as dtu\nimport dipy.tracking.streamline as dts\nfrom dipy.io.streamline import save_tractogram, load_tractogram\nfrom dipy.stats.analysis import afq_profile, gaussian_weights\nfrom dipy.io.stateful_tractogram import StatefulTractogram\nfrom dipy.io.stateful_tractogram import Space\nfrom dipy.align import affine_registration\n\n\nimport AFQ.data as afd\nimport AFQ.tractography as aft\nimport AFQ.registration as reg\nimport AFQ.models.dti as dti\nimport AFQ.segmentation as seg\nimport AFQ.api as api\n\n# Target directory for this example's output files\nworking_dir = \"./recobundles\"\n\ndpd.fetch_stanford_hardi()\n\nhardi_dir = op.join(fetcher.dipy_home, \"stanford_hardi\")\nhardi_fdata = op.join(hardi_dir, \"HARDI150.nii.gz\")\nhardi_fbval = op.join(hardi_dir, \"HARDI150.bval\")\nhardi_fbvec = op.join(hardi_dir, \"HARDI150.bvec\")\n\nimg = nib.load(hardi_fdata)\n\nprint(\"Calculating DTI...\")\nif not op.exists(op.join(working_dir, 'dti_FA.nii.gz')):\n    dti_params = dti.fit_dti(hardi_fdata, hardi_fbval, hardi_fbvec,\n                             out_dir=working_dir)\nelse:\n    dti_params = {'FA': op.join(working_dir, 'dti_FA.nii.gz'),\n                  'params': op.join(working_dir, 'dti_params.nii.gz')}\n\nFA_img = nib.load(dti_params['FA'])\nFA_data = FA_img.get_fdata()\n\nprint(\"Registering to template...\")\nMNI_T2_img = afd.read_mni_template()\n\nif not op.exists(op.join(working_dir, 'mapping.nii.gz')):\n    import dipy.core.gradients as dpg\n    gtab = dpg.gradient_table(hardi_fbval, hardi_fbvec)\n    b0 = np.mean(img.get_fdata()[..., gtab.b0s_mask], -1)\n    # Prealign using affine registration\n    _, prealign = affine_registration(\n        b0,\n        MNI_T2_img.get_fdata(),\n        img.affine,\n        MNI_T2_img.affine)\n\n    # Then register using a non-linear registration using the affine for\n    # prealignment\n    warped_hardi, mapping = reg.syn_register_dwi(hardi_fdata, gtab,\n                                                 prealign=prealign)\n    reg.write_mapping(mapping, op.join(working_dir, 'mapping.nii.gz'))\nelse:\n    mapping = reg.read_mapping(op.join(working_dir, 'mapping.nii.gz'),\n                               img, MNI_T2_img)\n\n\nbundle_names = [\"CST\", \"UF\", \"CC_ForcepsMajor\", \"CC_ForcepsMinor\", \"OR\", \"VOF\"]\nbundles = api.BundleDict(bundle_names, seg_algo=\"reco80\")\n\nprint(\"Tracking...\")\nif not op.exists(op.join(working_dir, 'dti_streamlines_reco.trk')):\n    seed_roi = np.zeros(img.shape[:-1])\n    for bundle in bundles:\n        if bundle != 'whole_brain':\n            sl_xform = dts.Streamlines(\n                dtu.transform_tracking_output(bundles[bundle]['sl'],\n                                              MNI_T2_img.affine))\n\n            delta = dts.values_from_volume(mapping.backward,\n                                           sl_xform, np.eye(4))\n            sl_xform = [sum(d, s) for d, s in zip(delta, sl_xform)]\n\n            sl_xform = dts.Streamlines(\n                dtu.transform_tracking_output(\n                    sl_xform,\n                    np.linalg.inv(MNI_T2_img.affine)))\n\n            sft = StatefulTractogram(sl_xform, img, Space.RASMM)\n            save_tractogram(sft, op.join(working_dir, f'{bundle}_atlas.trk'))\n\n            sl_xform = dts.Streamlines(\n                dtu.transform_tracking_output(\n                    sl_xform,\n                    np.linalg.inv(img.affine)))\n\n            for sl in sl_xform:\n                sl_as_idx = sl.astype(int)\n                seed_roi[sl_as_idx[:, 0],\n                         sl_as_idx[:, 1],\n                         sl_as_idx[:, 2]] = 1\n\n    nib.save(nib.Nifti1Image(seed_roi, img.affine),\n             op.join(working_dir, 'seed_roi.nii.gz'))\n    sft = aft.track(dti_params['params'], seed_mask=seed_roi,\n                    directions='det', stop_mask=FA_data,\n                    stop_threshold=0.1)\n    print(len(sft.streamlines))\n    save_tractogram(sft, op.join(working_dir, 'dti_streamlines_reco.trk'),\n                    bbox_valid_check=False)\nelse:\n    sft = load_tractogram(op.join(working_dir, 'dti_streamlines_reco.trk'),\n                          img)\n\nprint(\"Segmenting fiber groups...\")\nsegmentation = seg.Segmentation(seg_algo='reco80',\n                                rng=np.random.RandomState(2))\n\nsegmentation.segment(bundles,\n                     sft,\n                     fdata=hardi_fdata,\n                     fbval=hardi_fbval,\n                     fbvec=hardi_fbvec,\n                     mapping=mapping,\n                     reg_template=MNI_T2_img)\n\nfiber_groups = segmentation.fiber_groups\n\nfor kk in fiber_groups:\n    print(kk, len(fiber_groups[kk]))\n    sft = StatefulTractogram(fiber_groups[kk].streamlines,\n                             img,\n                             Space.RASMM)\n    save_tractogram(sft, op.join(working_dir, '%s_reco.trk' % kk),\n                    bbox_valid_check=False)\n\n\nprint(\"Extracting tract profiles...\")\nfor bundle in bundles:\n    if bundle != 'whole_brain':\n\n        fig, ax = plt.subplots(1)\n        sft = load_tractogram(\n            op.join(working_dir, f'{bundle}_reco.trk'),\n            img,\n            to_space=Space.VOX,\n            bbox_valid_check=False)\n        weights = gaussian_weights(sft.streamlines)\n        profile = afq_profile(FA_data, sft.streamlines,\n                              np.eye(4), weights=weights)\n\n        ax.plot(profile)\n        ax.set_title(bundle)\n\nplt.show()"
      ]
    },
    {
      "cell_type": "markdown",
      "metadata": {},
      "source": [
        "## References:\n .. [Garyfallidis2017] Garyfallidis, Eleftherios, Marc-Alexandre C\u00f4t\u00e9,\n                     Francois Rheault, Jasmeen Sidhu, Janice Hau, Laurent\n                     Petit, David Fortin, Stephen Cunanne, and Maxime\n                     Descoteaux. 2017.\u201cRecognition of White Matter Bundles\n                     Using Local and Global Streamline-Based Registration and\n                     Clustering.\u201dNeuroImage 170: 283-295.\n\n"
      ]
    }
  ],
  "metadata": {
    "kernelspec": {
      "display_name": "Python 3",
      "language": "python",
      "name": "python3"
    },
    "language_info": {
      "codemirror_mode": {
        "name": "ipython",
        "version": 3
      },
      "file_extension": ".py",
      "mimetype": "text/x-python",
      "name": "python",
      "nbconvert_exporter": "python",
      "pygments_lexer": "ipython3",
      "version": "3.8.12"
    }
  },
  "nbformat": 4,
  "nbformat_minor": 0
}