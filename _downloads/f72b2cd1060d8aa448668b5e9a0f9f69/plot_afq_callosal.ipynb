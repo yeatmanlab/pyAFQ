{
  "cells": [
    {
      "cell_type": "code",
      "execution_count": null,
      "metadata": {
        "collapsed": false
      },
      "outputs": [],
      "source": [
        "%matplotlib inline"
      ]
    },
    {
      "cell_type": "markdown",
      "metadata": {},
      "source": [
        "\n# Callosal bundles using AFQ API\nAn example using the AFQ API to find callosal bundles using the templates from:\nhttp://hdl.handle.net/1773/34926\n"
      ]
    },
    {
      "cell_type": "code",
      "execution_count": null,
      "metadata": {
        "collapsed": false
      },
      "outputs": [],
      "source": [
        "import os.path as op\n\nimport plotly\n\nfrom AFQ import api\nfrom AFQ.definitions.mask import RoiMask\nimport AFQ.data as afd"
      ]
    },
    {
      "cell_type": "markdown",
      "metadata": {},
      "source": [
        "## Get some example data\n\nRetrieves `Stanford HARDI dataset <https://purl.stanford.edu/ng782rw8378>`_.\n\n\n"
      ]
    },
    {
      "cell_type": "code",
      "execution_count": null,
      "metadata": {
        "collapsed": false
      },
      "outputs": [],
      "source": [
        "afd.organize_stanford_data(clear_previous_afq=True)"
      ]
    },
    {
      "cell_type": "markdown",
      "metadata": {},
      "source": [
        "## Set tractography parameters (optional)\nWe make this tracking_params which we will pass to the AFQ object\nwhich specifies that we want 100,000 seeds randomly distributed\nin the ROIs of every bundle.\n\nWe only do this to make this example faster and consume less space.\n\n"
      ]
    },
    {
      "cell_type": "code",
      "execution_count": null,
      "metadata": {
        "collapsed": false
      },
      "outputs": [],
      "source": [
        "tracking_params = dict(seed_mask=RoiMask(),\n                       n_seeds=10000,\n                       random_seeds=True,\n                       rng_seed=42)"
      ]
    },
    {
      "cell_type": "markdown",
      "metadata": {},
      "source": [
        "## Initialize an AFQ object:\n\nWe specify bundle_info as the callosal bundles only\n(`api.CALLOSUM_BUNDLES`). If we want to segment both the callosum\nand the other bundles, we would pass `api.CALLOSUM_BUNDLES + api.BUNDLES`\ninstead. This would tell the AFQ object to use bundles from both\nthe standard and callosal templates.\n\n"
      ]
    },
    {
      "cell_type": "code",
      "execution_count": null,
      "metadata": {
        "collapsed": false
      },
      "outputs": [],
      "source": [
        "myafq = api.AFQ(bids_path=op.join(afd.afq_home,\n                                  'stanford_hardi'),\n                preproc_pipeline='vistasoft',\n                bundle_info=api.CALLOSUM_BUNDLES,\n                tracking_params=tracking_params,\n                viz_backend='plotly_no_gif')\n\n# Calling export all produces all of the outputs of processing, including\n# tractography, scalar maps, tract profiles and visualizations:\nmyafq.export_all()"
      ]
    },
    {
      "cell_type": "markdown",
      "metadata": {},
      "source": [
        "## Visualizing bundles and tract profiles:\nThis would run the script and visualize the bundles using the plotly\ninteractive visualization, which should automatically open in a\nnew browser window.\n\n"
      ]
    },
    {
      "cell_type": "code",
      "execution_count": null,
      "metadata": {
        "collapsed": false
      },
      "outputs": [],
      "source": [
        "bundle_html = myafq.all_bundles_figure\nplotly.io.show(bundle_html[\"01\"])"
      ]
    }
  ],
  "metadata": {
    "kernelspec": {
      "display_name": "Python 3",
      "language": "python",
      "name": "python3"
    },
    "language_info": {
      "codemirror_mode": {
        "name": "ipython",
        "version": 3
      },
      "file_extension": ".py",
      "mimetype": "text/x-python",
      "name": "python",
      "nbconvert_exporter": "python",
      "pygments_lexer": "ipython3",
      "version": "3.7.12"
    }
  },
  "nbformat": 4,
  "nbformat_minor": 0
}