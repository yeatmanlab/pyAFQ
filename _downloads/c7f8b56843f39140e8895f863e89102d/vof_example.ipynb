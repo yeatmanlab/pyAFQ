{
  "cells": [
    {
      "cell_type": "code",
      "execution_count": null,
      "metadata": {
        "collapsed": false
      },
      "outputs": [],
      "source": [
        "%matplotlib inline"
      ]
    },
    {
      "cell_type": "markdown",
      "metadata": {},
      "source": [
        "\n# Finding only the ARC, pARC, VOF\n\npyAFQ generates the pARC and VOF as default bundles.\nThis example shows how you can choose to track and recognize only\ncertain bundles that you are interested in.\n"
      ]
    },
    {
      "cell_type": "code",
      "execution_count": null,
      "metadata": {
        "collapsed": false
      },
      "outputs": [],
      "source": [
        "import AFQ.api.bundle_dict as abd\nimport AFQ.data.fetch as afd\nfrom AFQ.api.group import GroupAFQ\nfrom AFQ.definitions.image import RoiImage\nimport AFQ.utils.streamlines as aus\n\nimport os.path as op\n\nafd.organize_stanford_data(clear_previous_afq=True)\n\nbundle_names = [\"ARC_L\", \"ARC_R\", \"pARC_L\", \"pARC_R\", \"VOF_L\", \"VOF_R\"]\nbundle_dict = abd.BundleDict(bundle_names)\n\n# you can change these if you want\nbundle_dict[\"VOF_R\"][\"primary_axis_percentage\"] = 50\nbundle_dict[\"VOF_L\"][\"primary_axis_percentage\"] = 50\n\nmyafq = GroupAFQ(\n    op.join(afd.afq_home, 'stanford_hardi'),\n    bundle_info=bundle_dict,\n    preproc_pipeline='vistasoft',\n    tracking_params={\n        \"n_seeds\": 50000,\n        \"random_seeds\": True,\n        \"seed_mask\": RoiImage(use_waypoints=True, use_endpoints=True),\n    },\n    clean_params={\"distance_threshold\": 3,\n                  \"length_threshold\": 5, \"clean_rounds\": 20}\n)\n\n\nfor b_name in bundle_names:\n    b_len = len(aus.SegmentedSFT.fromfile(myafq.export(\"clean_bundles\")[\n        \"01\"]).get_bundle(b_name))\n\n    if b_len < 1:\n        raise ValueError(f\"{b_name} not found\")\n\nmyafq.export(\"all_bundles_figure\")[\"01\"][0]"
      ]
    }
  ],
  "metadata": {
    "kernelspec": {
      "display_name": "Python 3",
      "language": "python",
      "name": "python3"
    },
    "language_info": {
      "codemirror_mode": {
        "name": "ipython",
        "version": 3
      },
      "file_extension": ".py",
      "mimetype": "text/x-python",
      "name": "python",
      "nbconvert_exporter": "python",
      "pygments_lexer": "ipython3",
      "version": "3.8.15"
    }
  },
  "nbformat": 4,
  "nbformat_minor": 0
}