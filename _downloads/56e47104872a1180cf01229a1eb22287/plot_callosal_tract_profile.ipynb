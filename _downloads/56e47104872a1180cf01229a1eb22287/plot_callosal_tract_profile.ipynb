{
  "cells": [
    {
      "cell_type": "markdown",
      "metadata": {},
      "source": [
        "\n# Plotting Novel Tract Profiles:\n\nThe following is an example of tractometry for a novel bundle and plotting the\nresulting FA tract profile. We will run tractometry for the *anterior forceps*\nusing waypoint ROIs.\n\n**AFQ Waypoint ROI Tractometry:**\n\n<div class=\"alert alert-info\"><h4>Note</h4><p>This example uses the Yeatman et al. waypoint ROI approach, first\n  described in [Yeatman2012]_ and further elaborated in [Yeatman2014]_.\n\n  The waypoint ROIs used in this example are from the anterior frontal lobe of\n  the corpus callosum (AntFrontal). The waypoint ROIs are from the human corpus\n  callosum templates:\n\n    https://figshare.com/articles/Templates_for_Automated_Fiber_Quantification_of_corpus_callosum_from_Diffusion_MRI_data/3381523</p></div>\n"
      ]
    },
    {
      "cell_type": "code",
      "execution_count": null,
      "metadata": {
        "collapsed": false
      },
      "outputs": [],
      "source": [
        "import os.path as op\nimport matplotlib.pyplot as plt\nimport plotly\nimport numpy as np\nimport nibabel as nib\nimport dipy.data as dpd\nfrom dipy.data import fetcher\nfrom dipy.io.streamline import save_tractogram, load_tractogram\nfrom dipy.stats.analysis import afq_profile, gaussian_weights\nfrom dipy.io.stateful_tractogram import StatefulTractogram\nfrom dipy.io.stateful_tractogram import Space\nfrom dipy.align import affine_registration\n\nimport AFQ.data.fetch as afd\nimport AFQ.tractography.tractography as aft\nimport AFQ.registration as reg\nimport AFQ.models.dti as dti\nimport AFQ.segmentation as seg\nfrom AFQ.utils.streamlines import SegmentedSFT\nfrom AFQ.utils.volume import transform_inverse_roi, density_map\nfrom AFQ.viz.plot import show_anatomical_slices\nfrom AFQ.viz.plotly_backend import visualize_bundles, visualize_volume\n\nimport logging\nimport sys\n\n# Ensure segmentation logging information is included in this example's output\nroot = logging.getLogger()\nroot.setLevel(logging.ERROR)\nlogging.getLogger('AFQ').setLevel(logging.INFO)\nhandler = logging.StreamHandler(sys.stdout)\nhandler.setLevel(logging.INFO)\nroot.addHandler(handler)\n\n# Target directory for this example's output files\nworking_dir = \"./callosal_tract_profile\""
      ]
    },
    {
      "cell_type": "markdown",
      "metadata": {},
      "source": [
        "## Get example data:\n**Diffusion dataset**\n\n<div class=\"alert alert-info\"><h4>Note</h4><p>The diffusion data used in this example are from the Stanford High Angular\n  Resolution Diffusion Imaging (HARDI) dataset:\n\n    https://purl.stanford.edu/ng782rw8378</p></div>\n\n"
      ]
    },
    {
      "cell_type": "code",
      "execution_count": null,
      "metadata": {
        "collapsed": false
      },
      "outputs": [],
      "source": [
        "print(\"Fetching data...\")\n\n# If does not already exist `fetch_stanford_hardi` will download the first\n# subject's session from the HARDI data into fetcher.dipy_home:\n# `~/.dipy/stanford_hardi`\ndpd.fetch_stanford_hardi()\n\n# Reference to data file locations\nhardi_dir = op.join(fetcher.dipy_home, \"stanford_hardi\")\nhardi_fdata = op.join(hardi_dir, \"HARDI150.nii.gz\")\nhardi_fbval = op.join(hardi_dir, \"HARDI150.bval\")\nhardi_fbvec = op.join(hardi_dir, \"HARDI150.bvec\")\n\nprint(f'Loading data file: {hardi_fdata}')\nimg = nib.load(hardi_fdata)\n\n# Display output from this step\nimg_data = img.get_fdata()\n\n# working with space and time data\nimg_data = img_data[..., int(img_data.shape[3] / 2)]\n\nshow_anatomical_slices(img_data, 'HARDI 150 DWI')\nprint(f'bvals: f{np.loadtxt(hardi_fbval)}')\nprint(f'bvec: f{np.loadtxt(hardi_fbvec)}')"
      ]
    },
    {
      "cell_type": "markdown",
      "metadata": {},
      "source": [
        "## Calculate DTI:\nFit the DTI model using default settings, save files with derived maps.\n\nBy default following DTI measurements are calculated:\n\n- Fractional anisotropy (FA),\n\n- Mean diffusivity (MD),\n\n- Axial diffusivity (AD),\n\n- and Radial diffusivity (RD)\n\nIn this example we will only use FA.\n\n<div class=\"alert alert-info\"><h4>Note</h4><p>By default:\n\n  - All b-values less than or equal to 50 are considered to be\n    without diffusion weighting.\n\n  - No binary masks are applied; therefore all voxels are processed.</p></div>\n\n<div class=\"alert alert-info\"><h4>Note</h4><p>The diffusion tensor imaging parameters contain the associated eigenvalues\n  and eigenvectors from eigen decomposition on the diffusion tensor.</p></div>\n\n"
      ]
    },
    {
      "cell_type": "code",
      "execution_count": null,
      "metadata": {
        "collapsed": false
      },
      "outputs": [],
      "source": [
        "print(\"Calculating DTI...\")\n\nif not op.exists(op.join(working_dir, 'dti_FA.nii.gz')):\n    dti_params = dti.fit_dti(hardi_fdata, hardi_fbval, hardi_fbvec,\n                             out_dir=working_dir)\nelse:\n    dti_params = {'FA': op.join(working_dir, 'dti_FA.nii.gz'),\n                  'params': op.join(working_dir, 'dti_params.nii.gz')}\n\nprint(f\"Loading {dti_params['FA']}\")\nFA_img = nib.load(dti_params['FA'])\nFA_data = FA_img.get_fdata()\n\nshow_anatomical_slices(FA_data, 'Fractional Anisotropy (FA)')"
      ]
    },
    {
      "cell_type": "markdown",
      "metadata": {},
      "source": [
        "## Register the individual data to a template:\nFor the purpose of bundle segmentation, the individual brain is registered\nto the MNI T2 template. The waypoint ROIs used in segmentation are then each\nbrought into each subject's native space to test streamlines for whether they\nfulfill the segmentation criteria.\n\n<div class=\"alert alert-info\"><h4>Note</h4><p>To find the right place for the waypoint ROIs, we calculate a non-linear\n    transformation between the individual's brain and the MNI T2 template.\n    Before calculating this non-linear warping, we perform a pre-alignment\n    using an affine transformation.</p></div>\n\n"
      ]
    },
    {
      "cell_type": "code",
      "execution_count": null,
      "metadata": {
        "collapsed": false
      },
      "outputs": [],
      "source": [
        "print(\"Registering to template...\")\nMNI_T2_img = afd.read_mni_template()\n\nif not op.exists(op.join(working_dir, 'mapping.nii.gz')):\n    import dipy.core.gradients as dpg\n    gtab = dpg.gradient_table(hardi_fbval, hardi_fbvec)\n    b0 = np.mean(img.get_fdata()[..., gtab.b0s_mask], -1)\n    # Prealign using affine registration\n    _, prealign = affine_registration(\n        b0,\n        MNI_T2_img.get_fdata(),\n        img.affine,\n        MNI_T2_img.affine)\n\n    # Then register using a non-linear registration using the affine for\n    # prealignment\n    warped_hardi, mapping = reg.syn_register_dwi(hardi_fdata, gtab,\n                                                 prealign=prealign)\n    reg.write_mapping(mapping, op.join(working_dir, 'mapping.nii.gz'))\nelse:\n    mapping = reg.read_mapping(op.join(working_dir, 'mapping.nii.gz'),\n                               img, MNI_T2_img)\n\nmapping_img = nib.load(op.join(working_dir, 'mapping.nii.gz'))\nmapping_img_data = mapping_img.get_fdata()\n\n# Working with diffeomorphic map data\nmapping_img_data = mapping_img_data[..., 0, 0]\nshow_anatomical_slices(mapping_img_data, 'Registration Displacement Mapping')\n\n# plot the transformational map of MNI T2 onto subject space\nwarped_MNI_T2_data = mapping.transform_inverse(MNI_T2_img.get_fdata())\nwarped_MNI_T2_img = nib.Nifti1Image(warped_MNI_T2_data.astype(float),\n                                    img.affine)\n\nnib.save(warped_MNI_T2_img, op.join(working_dir, 'warped_MNI_T2.nii.gz'))\n\nshow_anatomical_slices(warped_MNI_T2_img.get_fdata(), 'Warped MNI T2')"
      ]
    },
    {
      "cell_type": "markdown",
      "metadata": {},
      "source": [
        "## Create novel bundle specification:\nThe bundles specify meta-data for the segmentation.\n\nThe following keys are required for a `bundle` entry:\n\n- `ROIs`\n\n  lists the ROI templates.\n\n<div class=\"alert alert-info\"><h4>Note</h4><p>Order of the `ROIs` matters and may result in different tract profiles.\n  Given a sequence of waypoint ROIs the endpoints should appear first. Which\n  endpoint appears first should be consistent with the directionality of\n  other bundles defintions. Any intermediate waypoints ROIs should respect\n  this ordering.</p></div>\n\n- `rules`\n\n  label each ROI as inclusionary `True` or exclusionary `False`.\n\n- `cross_midline`\n\n  whether or not the streamline crosses the midline\n\n<div class=\"alert alert-info\"><h4>Note</h4><p>It is also possible to utilize probablity maps to further refine the\n  segmentation. If `prob_map` key is not specified the probablities will\n  all be ones and same shape as the ROI.</p></div>\n\n<div class=\"alert alert-info\"><h4>Note</h4><p>If using multiple bundles it is recommended to add an optional identifier\n  key such as `uid`. This key is not used by segmentation, but can be helpful\n  for debugging or quality control reports.</p></div>\n\nTo identify candidate streamlines for the anterior forceps we will use three\nwaypoint ROI templates:\n\n1. Left anterior frontal,\n\n2. Right anterior frontal,\n\n3. and midsaggital.\n\nThe templates are first resampled into the MNI space, before\nthey are brought into the subject's individual native space.\n\n"
      ]
    },
    {
      "cell_type": "code",
      "execution_count": null,
      "metadata": {
        "collapsed": false
      },
      "outputs": [],
      "source": [
        "print(\"Fetching callosum ROI templates...\")\n\ncallosal_templates = afd.read_callosum_templates(resample_to=MNI_T2_img)\n\nshow_anatomical_slices(callosal_templates[\"L_AntFrontal\"].get_fdata(),\n                       'Left anterior frontal ROI')\nshow_anatomical_slices(callosal_templates[\"R_AntFrontal\"].get_fdata(),\n                       'Right anterior frontal ROI')\nshow_anatomical_slices(callosal_templates[\"Callosum_midsag\"].get_fdata(),\n                       'Midsagittal ROI')\n\nprint(\"Creating callosal bundle specification...\")\n\n# bundle dict\nbundles = {}\n\n# anterior frontal ROIs\nbundles[\"AntFrontal\"] = {\n    'include': [\n        callosal_templates[\"L_AntFrontal\"],\n        callosal_templates[\"R_AntFrontal\"],\n        callosal_templates[\"Callosum_midsag\"]],\n    'cross_midline': True\n}"
      ]
    },
    {
      "cell_type": "markdown",
      "metadata": {},
      "source": [
        "## Tracking:\nStreamlines are generate using DTI and a deterministic tractography\nalgorithm. For speed, we seed only within the waypoint ROIs for each bundle.\n\n<div class=\"alert alert-info\"><h4>Note</h4><p>By default tractography:\n\n  - Will identify streamlines with lengths between 10 mm and 1 m, with\n    turning angles of less than 30 degrees.\n\n  - Is seeded with a single seed in each voxel on each dimension\n\n  - Each step is 0.5 mm</p></div>\n\n<div class=\"alert alert-info\"><h4>Note</h4><p>In this example tractography results in a large number of candidate\n  streamlines for the anterior forceps, but not many streamlines anywhere\n  else.</p></div>\n\n"
      ]
    },
    {
      "cell_type": "code",
      "execution_count": null,
      "metadata": {
        "collapsed": false
      },
      "outputs": [],
      "source": [
        "print(\"Tracking...\")\n\nif not op.exists(op.join(working_dir, 'dti_streamlines.trk')):\n    seed_roi = np.zeros(img.shape[:-1])\n    for bundle in bundles:\n        for idx, roi in enumerate(bundles[bundle][\"include\"]):\n            warped_roi = transform_inverse_roi(\n                roi,\n                mapping,\n                bundle_name=bundle)\n\n            nib.save(\n                nib.Nifti1Image(warped_roi.astype(float), img.affine),\n                op.join(working_dir, f\"{bundle}_{idx+1}.nii.gz\"))\n\n            warped_roi_img = nib.load(op.join(\n                working_dir,\n                f\"{bundle}_{idx+1}.nii.gz\"))\n            show_anatomical_slices(\n                warped_roi_img.get_fdata(),\n                f'warped {bundle}_{idx+1} ROI')\n\n            # Add voxels that aren't there yet:\n            seed_roi = np.logical_or(seed_roi, warped_roi)\n\n    seed_roi_img = nib.Nifti1Image(seed_roi.astype(float), img.affine)\n    nib.save(seed_roi_img, op.join(working_dir, 'seed_roi.nii.gz'))\n\n    show_anatomical_slices(seed_roi_img.get_fdata(), 'Seed ROI')\n\n    tractogram = aft.track(dti_params['params'], seed_mask=seed_roi,\n                           stop_mask=FA_data, stop_threshold=0.1,\n                           directions=\"det\", odf_model=\"dti\")\n    save_tractogram(tractogram, op.join(working_dir, 'dti_streamlines.trk'),\n                    bbox_valid_check=False)\n\n    tractogram_img = density_map(tractogram, n_sls=1000)\n    nib.save(tractogram_img, op.join(working_dir,\n                                     'afq_dti_density_map.nii.gz'))\nelse:\n    tractogram = load_tractogram(op.join(working_dir, 'dti_streamlines.trk'),\n                                 img)\n\ntractogram.to_vox()"
      ]
    },
    {
      "cell_type": "markdown",
      "metadata": {},
      "source": [
        "## Segmentation:\nIn this stage, streamlines are tested for several criteria: whether the\nprobability that they belong to a bundle is larger than a threshold (set to\n0, per default), whether they pass through inclusion ROIs and whether they do\nnot pass through exclusion ROIs.\n\n<div class=\"alert alert-info\"><h4>Note</h4><p>By default segmentation:\n\n  - uses Streamlinear Registration algorithm\n\n  - does not clip streamlines to be between ROIs\n\n  - All b-values less than or equal to 50 are considered to be\n    without diffusion weighting.</p></div>\n\nSegmentation will result in a `fiber_group` for each bundle, which\ncontains the following keys:\n\n   - `sl`\n\n      StatefulTractogram encompassing the selected streamlines\n\n   - `idx`\n\n      indexes to selected streamlines\n\n<div class=\"alert alert-info\"><h4>Note</h4><p>Currently it is not possible to define endpoint filters for novel bundles,\n   but this is something we expect to address. However we can run\n   segmentation by ignoring endpoint filters. This means that additional\n   streamlines may be included that would otherwise be excluded.</p></div>\n\n"
      ]
    },
    {
      "cell_type": "code",
      "execution_count": null,
      "metadata": {
        "collapsed": false
      },
      "outputs": [],
      "source": [
        "tractogram_img = nib.load(op.join(working_dir, 'afq_dti_density_map.nii.gz'))\nshow_anatomical_slices(tractogram_img.get_fdata(), 'DTI Density Map')\n\nprint(\"Segmenting fiber groups...\")\n\nsegmentation = seg.Segmentation(return_idx=True,\n                                filter_by_endpoints=False)\n\nsegmentation.segment(bundles,\n                     tractogram,\n                     fdata=hardi_fdata,\n                     fbval=hardi_fbval,\n                     fbvec=hardi_fbvec,\n                     mapping=mapping,\n                     reg_template=MNI_T2_img)\n\nfiber_groups = segmentation.fiber_groups\n\nfor bundle in bundles:\n    tractogram = StatefulTractogram(fiber_groups[bundle]['sl'].streamlines,\n                                    img,\n                                    Space.VOX)\n    tractogram.to_rasmm()\n    save_tractogram(tractogram, op.join(working_dir, f'afq_{bundle}_seg.trk'),\n                    bbox_valid_check=False)\n\n    tractogram_img = density_map(tractogram, n_sls=1000)\n    nib.save(tractogram_img, op.join(working_dir,\n                                     f'afq_{bundle}_seg_density_map.nii.gz'))\n    show_anatomical_slices(tractogram_img.get_fdata(),\n                           f'Segmented {bundle} Density Map')"
      ]
    },
    {
      "cell_type": "markdown",
      "metadata": {},
      "source": [
        "## Cleaning:\nEach fiber group is cleaned to exclude streamlines that are outliers in terms\nof their trajectory and/or length.\n\n<div class=\"alert alert-info\"><h4>Note</h4><p>By default cleaning\n\n  - resamples streamlines to 100 points\n\n  - given there are more than 20 streamlines cleaining will make maximum 5\n    attempts to prune streamlines that are:\n\n     - greater than 5 standard deviations from the mean Mahalanobis distance,\n       or\n\n     - greather than 4 standard deviations from the mean length</p></div>\n\n\n"
      ]
    },
    {
      "cell_type": "code",
      "execution_count": null,
      "metadata": {
        "collapsed": false
      },
      "outputs": [],
      "source": [
        "print(\"Cleaning fiber groups...\")\nfor bundle in bundles:\n    print(f\"Cleaning {bundle}...\")\n    print(f\"Before cleaning: {len(fiber_groups[bundle]['sl'])} streamlines\")\n    new_fibers, idx_in_bundle = seg.clean_bundle(\n        fiber_groups[bundle]['sl'],\n        return_idx=True)\n    print(f\"After cleaning: {len(new_fibers)} streamlines\")\n\n    idx_in_global = fiber_groups[bundle]['idx'][idx_in_bundle]\n    np.save(op.join(working_dir, f'{bundle}_idx.npy'), idx_in_global)\n\n    tractogram = StatefulTractogram(new_fibers.streamlines,\n                                    img,\n                                    Space.VOX)\n    tractogram.to_rasmm()\n    save_tractogram(tractogram, op.join(working_dir, f'afq_{bundle}.trk'),\n                    bbox_valid_check=False)\n\n    tractogram_img = density_map(tractogram, n_sls=1000)\n    nib.save(tractogram_img, op.join(working_dir,\n                                     f'afq_{bundle}_density_map.nii.gz'))\n    show_anatomical_slices(tractogram_img.get_fdata(),\n                           f'Cleaned {bundle} Density Map')"
      ]
    },
    {
      "cell_type": "markdown",
      "metadata": {},
      "source": [
        "## Visualizing a bundle and tract profile:\n\n"
      ]
    },
    {
      "cell_type": "code",
      "execution_count": null,
      "metadata": {
        "collapsed": false
      },
      "outputs": [],
      "source": [
        "bundle_to_viz = SegmentedSFT({\"AntFrontal\": load_tractogram(\n    op.join(working_dir, f'afq_AntFrontal.trk'),\n    img, to_space=Space.VOX)}, Space.VOX)\n\nplotly.io.show(visualize_bundles(bundle_to_viz,\n                                 figure=visualize_volume(warped_MNI_T2_data),\n                                 shade_by_volume=FA_data))"
      ]
    },
    {
      "cell_type": "markdown",
      "metadata": {},
      "source": [
        "## Bundle profiles:\nStreamlines are represented in the original diffusion space (`Space.VOX`) and\nscalar properties along the length of each bundle are queried from this\nscalar data. Here, the contribution of each streamline is weighted according\nto how representative this streamline is of the bundle overall.\n\n<div class=\"alert alert-info\"><h4>Note</h4><p>As a sanity check the anterior forceps the tract profile is relatively\n  symmetric?</p></div>\n\n"
      ]
    },
    {
      "cell_type": "code",
      "execution_count": null,
      "metadata": {
        "collapsed": false
      },
      "outputs": [],
      "source": [
        "print(\"Extracting tract profiles...\")\nfor bundle in bundles:\n    print(f\"Extracting {bundle}...\")\n    tractogram = load_tractogram(op.join(working_dir, f'afq_{bundle}.trk'),\n                                 img, to_space=Space.VOX)\n    fig, ax = plt.subplots(1)\n    weights = gaussian_weights(tractogram.streamlines)\n    profile = afq_profile(FA_data, tractogram.streamlines,\n                          np.eye(4), weights=weights)\n    ax.plot(profile)\n    ax.set_title(bundle)\n\nplt.show()\nplt.savefig(op.join(working_dir, 'AntFrontal_tractprofile.png'))"
      ]
    },
    {
      "cell_type": "markdown",
      "metadata": {},
      "source": [
        "## References:\n.. [Yeatman2012] Jason D Yeatman, Robert F Dougherty, Nathaniel J Myall,\n                 Brian A Wandell, Heidi M Feldman, \"Tract profiles of\n                 white matter properties: automating fiber-tract\n                 quantification\", PloS One, 7: e49790\n\n.. [Yeatman2014] Jason D Yeatman, Brian A Wandell, Aviv Mezer Feldman,\n                 \"Lifespan maturation and degeneration of human brain white\n                 matter\", Nature Communications 5: 4932\n\n"
      ]
    }
  ],
  "metadata": {
    "kernelspec": {
      "display_name": "Python 3",
      "language": "python",
      "name": "python3"
    },
    "language_info": {
      "codemirror_mode": {
        "name": "ipython",
        "version": 3
      },
      "file_extension": ".py",
      "mimetype": "text/x-python",
      "name": "python",
      "nbconvert_exporter": "python",
      "pygments_lexer": "ipython3",
      "version": "3.9.18"
    }
  },
  "nbformat": 4,
  "nbformat_minor": 0
}