{
  "cells": [
    {
      "cell_type": "markdown",
      "metadata": {},
      "source": [
        "\n# Getting started programming with pyAFQ\n\nThere are two ways to :doc:`use pyAFQ </howto/getting_started>`: through the\ncommand line interface, and by writing Python code. This tutorial will walk you\nthrough the basics of the latter, using pyAFQ's Python Application Programming\nInterface (API).\n"
      ]
    },
    {
      "cell_type": "code",
      "execution_count": null,
      "metadata": {
        "collapsed": false
      },
      "outputs": [],
      "source": [
        "import os.path as op\n\nimport matplotlib.pyplot as plt\nimport nibabel as nib\nimport plotly\nimport pandas as pd\n\nfrom AFQ.api.group import GroupAFQ\nimport AFQ.data.fetch as afd\nimport AFQ.viz.altair as ava"
      ]
    },
    {
      "cell_type": "markdown",
      "metadata": {},
      "source": [
        "## Example data\npyAFQ assumes that the data is organized in a BIDS compliant directory.\nTo get users started with this tutorial, we will download some example\ndata and organize it in a BIDS compliant way (for more details on how\nBIDS is used in pyAFQ, refer to `bids_tutorial`).\n\nThe following call dowloads a dataset that contains a single subject's\nhigh angular resolution diffusion imaging (HARDI) data, collected at the\nStanford Vista Lab\n\n<div class=\"alert alert-info\"><h4>Note</h4><p>See https://purl.stanford.edu/ng782rw8378 for details on dataset.</p></div>\n\nThe data are downloaded and organized locally into a BIDS compliant\nanatomical data folder (``anat``) and a diffusion-weighted imaging data\n(``dwi``) folder, which are both placed in the user's home directory under::\n\n  ``~/AFQ_data/stanford_hardi/``\n\nThe data is also placed in a derivatives directory, signifying that it has\nalready undergone the required preprocessing necessary for pyAFQ to run.\n\nThe clear_previous_afq is used to remove any previous runs of the afq object\nstored in the `~/AFQ_data/stanford_hardi/` BIDS directory. Set it to None if\nyou want to use the results of previous runs.\n\n"
      ]
    },
    {
      "cell_type": "code",
      "execution_count": null,
      "metadata": {
        "collapsed": false
      },
      "outputs": [],
      "source": [
        "afd.organize_stanford_data(clear_previous_afq=\"track\")"
      ]
    },
    {
      "cell_type": "markdown",
      "metadata": {},
      "source": [
        "## Set tractography parameters (optional)\nWe make create a `tracking_params` variable, which we will pass to the\nGroupAFQ object which specifies that we want 25,000 seeds randomly\ndistributed in the white matter.\n\nWe only do this to make this example faster and consume less space.\n\n"
      ]
    },
    {
      "cell_type": "code",
      "execution_count": null,
      "metadata": {
        "collapsed": false
      },
      "outputs": [],
      "source": [
        "tracking_params = dict(n_seeds=25000,\n                       random_seeds=True,\n                       rng_seed=2022,\n                       trx=True)"
      ]
    },
    {
      "cell_type": "markdown",
      "metadata": {},
      "source": [
        "## Initialize a GroupAFQ object:\n\nCreates a GroupAFQ object, that encapsulates tractometry. This object can be\nused to manage the entire :doc:`AFQ pipeline`, including:\n\n- Tractography\n- Registration\n- Segmentation\n- Cleaning\n- Profiling\n- Visualization\n\nThis will also create an output folder for the corresponding AFQ derivatives\nin the AFQ data directory: ``AFQ_data/stanford_hardi/derivatives/afq/``\n\nTo initialize this object we will pass in the path location to our BIDS\ncompliant data, the name of the preprocessing pipeline we want to use, and\nthe tracking parameters we defined above. We will also specify the\nvisualization backend we want to use (see below for more details).\nWe will also be using plotly to generate an interactive visualization.\nThe value `plotly_no_gif` indicates that interactive visualizations will be\ngenerated as html web-pages that can be opened in a browser, but not as\nstatic gif files.\n\n"
      ]
    },
    {
      "cell_type": "code",
      "execution_count": null,
      "metadata": {
        "collapsed": false
      },
      "outputs": [],
      "source": [
        "myafq = GroupAFQ(\n    bids_path=op.join(afd.afq_home, 'stanford_hardi'),\n    preproc_pipeline='vistasoft',\n    tracking_params=tracking_params,\n    viz_backend_spec='plotly_no_gif')"
      ]
    },
    {
      "cell_type": "markdown",
      "metadata": {},
      "source": [
        "## Calculating DTI FA (Diffusion Tensor Imaging Fractional Anisotropy)\nThe GroupAFQ object has a method called `export`, which allows the user\nto calculate various derived quantities from the data.\n\nFor example, FA can be computed using the DTI model, by explicitly\ncalling `myafq.export(\"dti_fa\")`. This triggers the computation of DTI\nparameters for all subjects in the dataset, and stores the results in\nthe AFQ derivatives directory. In addition, it calculates the FA\nfrom these parameters and stores it in a different file in the same\ndirectory.\n\n<div class=\"alert alert-info\"><h4>Note</h4><p>The AFQ API computes quantities lazily. This means that DTI parameters\n   are not computed until they are required. This means that the first\n   line below is the one that requires time.</p></div>\n\nThe result of the call to `export` is a dictionary, with the subject\nIDs as keys, and the filenames of the corresponding files as values.\nThis means that to extract the filename corresponding to the FA of the first\nsubject, we can do:\n\n"
      ]
    },
    {
      "cell_type": "code",
      "execution_count": null,
      "metadata": {
        "collapsed": false
      },
      "outputs": [],
      "source": [
        "FA_fname = myafq.export(\"dti_fa\")[\"01\"]\n\n# We will then use `nibabel` to load the deriviative file and retrieve the\n# data array.\n\nFA_img = nib.load(FA_fname)\nFA = FA_img.get_fdata()"
      ]
    },
    {
      "cell_type": "markdown",
      "metadata": {},
      "source": [
        "## Visualize the result with Matplotlib\nAt this point `FA` is an array, and we can use standard Python tools to\nvisualize it or perform additional computations with it.\n\nIn this case we are going to take an axial slice halfway through the\nFA data array and plot using a sequential color map.\n\n<div class=\"alert alert-info\"><h4>Note</h4><p>The data array is structured as a xyz coordinate system.</p></div>\n\n"
      ]
    },
    {
      "cell_type": "code",
      "execution_count": null,
      "metadata": {
        "collapsed": false
      },
      "outputs": [],
      "source": [
        "fig, ax = plt.subplots(1)\nax.matshow(FA[:, :, FA.shape[-1] // 2], cmap='viridis')\nax.axis(\"off\")"
      ]
    },
    {
      "cell_type": "markdown",
      "metadata": {},
      "source": [
        "## Recognizing the bundles and calculating act profiles:\nTypically, users of pyAFQ are interested in calculating not only an overall\nmap of the FA, but also the major white matter pathways (or bundles) and\ntract profiles of tissue properties along their length. To trigger the\npyAFQ pipeline that calculates the profiles, users can call the\n`export('profiles')` method:\n\n<div class=\"alert alert-info\"><h4>Note</h4><p>Running the code below triggers the full pipeline of operations\n   leading to the computation of the tract profiles. Therefore, it\n   takes a little while to run (about 40 minutes, typically).</p></div>\n\n"
      ]
    },
    {
      "cell_type": "code",
      "execution_count": null,
      "metadata": {
        "collapsed": false
      },
      "outputs": [],
      "source": [
        "myafq.export('profiles')"
      ]
    },
    {
      "cell_type": "markdown",
      "metadata": {},
      "source": [
        "## Visualizing the bundles and calculating act profiles:\nThe pyAFQ API provides several ways to visualize bundles and profiles.\n\nFirst, we will run a function that exports an html file that contains\nan interactive visualization of the bundles that are segmented.\n\n<div class=\"alert alert-info\"><h4>Note</h4><p>By default we resample a 100 points within a bundle, however to reduce\n   processing time we will only resample 50 points.</p></div>\n\nOnce it is done running, it should pop a browser window open and let you\ninteract with the bundles.\n\n<div class=\"alert alert-info\"><h4>Note</h4><p>You can hide or show a bundle by clicking the legend, or select a\n   single bundle by double clicking the legend. The interactive\n   visualization will also all you to pan, zoom, and rotate.</p></div>\n\n"
      ]
    },
    {
      "cell_type": "code",
      "execution_count": null,
      "metadata": {
        "collapsed": false
      },
      "outputs": [],
      "source": [
        "bundle_html = myafq.export(\"all_bundles_figure\")\nplotly.io.show(bundle_html[\"01\"][0])"
      ]
    },
    {
      "cell_type": "markdown",
      "metadata": {},
      "source": [
        "We can also visualize the tract profiles in all of the bundles. These\nplots show both FA (left) and MD (right) layed out anatomically.\nTo make this plot, it is required that you install with\n`pip install pyAFQ[plot]` so that you have the necessary dependencies.\n\n\n"
      ]
    },
    {
      "cell_type": "code",
      "execution_count": null,
      "metadata": {
        "collapsed": false
      },
      "outputs": [],
      "source": [
        "fig_files = myafq.export(\"tract_profile_plots\")[\"01\"]"
      ]
    },
    {
      "cell_type": "markdown",
      "metadata": {},
      "source": [
        ".. figure:: {{ fig_files[0] }}\n\n\n"
      ]
    },
    {
      "cell_type": "markdown",
      "metadata": {},
      "source": [
        "We can even use altair to visualize the tract profiles in all\nof the bundles. We provide a more customizable interface for visualizing\nthe tract profiles using altair.\nAgain, to make this plot, it is required that you install with\n`pip install pyAFQ[plot]` so that you have the necessary dependencies.\n\n\n"
      ]
    },
    {
      "cell_type": "code",
      "execution_count": null,
      "metadata": {
        "collapsed": false
      },
      "outputs": [],
      "source": [
        "profiles_df = myafq.combine_profiles()\naltair_df = ava.combined_profiles_df_to_altair_df(profiles_df)\naltair_chart = ava.altair_df_to_chart(altair_df)\naltair_chart.display()"
      ]
    },
    {
      "cell_type": "markdown",
      "metadata": {},
      "source": [
        "We can check the number of streamlines per bundle, to make sure\nevery bundle is found with a reasonable amount of streamlines.\n\n"
      ]
    },
    {
      "cell_type": "code",
      "execution_count": null,
      "metadata": {
        "collapsed": false
      },
      "outputs": [],
      "source": [
        "bundle_counts = pd.read_csv(myafq.export(\"sl_counts\")[\"01\"], index_col=[0])\nfor ind in bundle_counts.index:\n    if ind == \"Total Recognized\":\n        threshold = 1000\n    else:\n        threshold = 10\n    if bundle_counts[\"n_streamlines\"][ind] < threshold:\n        raise ValueError((\n            \"Small number of streamlines found \"\n            f\"for bundle(s):\\n{bundle_counts}\"))"
      ]
    }
  ],
  "metadata": {
    "kernelspec": {
      "display_name": "Python 3",
      "language": "python",
      "name": "python3"
    },
    "language_info": {
      "codemirror_mode": {
        "name": "ipython",
        "version": 3
      },
      "file_extension": ".py",
      "mimetype": "text/x-python",
      "name": "python",
      "nbconvert_exporter": "python",
      "pygments_lexer": "ipython3",
      "version": "3.9.19"
    }
  },
  "nbformat": 4,
  "nbformat_minor": 0
}