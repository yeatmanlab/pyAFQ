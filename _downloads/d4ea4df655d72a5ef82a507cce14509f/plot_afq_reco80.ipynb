{
  "cells": [
    {
      "cell_type": "code",
      "execution_count": null,
      "metadata": {
        "collapsed": false
      },
      "outputs": [],
      "source": [
        "%matplotlib inline"
      ]
    },
    {
      "cell_type": "markdown",
      "metadata": {},
      "source": [
        "\n# RecoBundles80 using AFQ API\n\nAn example using the AFQ API to run recobundles with the\n`80 bundle atlas <https://figshare.com/articles/Advanced_Atlas_of_80_Bundles_in_MNI_space/7375883>`_.\n"
      ]
    },
    {
      "cell_type": "code",
      "execution_count": null,
      "metadata": {
        "collapsed": false
      },
      "outputs": [],
      "source": [
        "import os.path as op\n\nimport plotly\n\nfrom AFQ import api\nimport AFQ.data as afd"
      ]
    },
    {
      "cell_type": "markdown",
      "metadata": {},
      "source": [
        "## Get some example data\n\nRetrieves `Stanford HARDI dataset <https://purl.stanford.edu/ng782rw8378>`_.\n\n\n"
      ]
    },
    {
      "cell_type": "code",
      "execution_count": null,
      "metadata": {
        "collapsed": false
      },
      "outputs": [],
      "source": [
        "afd.organize_stanford_data(clear_previous_afq=True)"
      ]
    },
    {
      "cell_type": "markdown",
      "metadata": {},
      "source": [
        "## Set tractography parameters (optional)\nWe make this tracking_params which we will pass to the AFQ object\nwhich specifies that we want 50,000 seeds randomly distributed\nin the white matter.\n\nWe only do this to make this example faster and consume less space.\n\n"
      ]
    },
    {
      "cell_type": "code",
      "execution_count": null,
      "metadata": {
        "collapsed": false
      },
      "outputs": [],
      "source": [
        "tracking_params = dict(n_seeds=50000,\n                       random_seeds=True,\n                       rng_seed=42)"
      ]
    },
    {
      "cell_type": "markdown",
      "metadata": {},
      "source": [
        "## Initialize an AFQ object:\n\nWe specify seg_algo as reco80 in segmentation_params. This tells the AFQ\nobject to perform RecoBundles using the 80 bundles atlas in the\nsegmentation step.\n\n"
      ]
    },
    {
      "cell_type": "code",
      "execution_count": null,
      "metadata": {
        "collapsed": false
      },
      "outputs": [],
      "source": [
        "myafq = api.AFQ(bids_path=op.join(afd.afq_home,\n                                  'stanford_hardi'),\n                dmriprep='vistasoft',\n                segmentation_params={\"seg_algo\": \"reco80\"},\n                tracking_params=tracking_params)"
      ]
    },
    {
      "cell_type": "markdown",
      "metadata": {},
      "source": [
        "## Visualizing bundles and tract profiles:\nThis would run the script and visualize the bundles using the plotly\ninteractive visualization, which should automatically open in a\nnew browser window.\n\n"
      ]
    },
    {
      "cell_type": "code",
      "execution_count": null,
      "metadata": {
        "collapsed": false
      },
      "outputs": [],
      "source": [
        "bundle_html = myafq.viz_bundles(export=True, n_points=50)\nplotly.io.show(bundle_html[0])"
      ]
    }
  ],
  "metadata": {
    "kernelspec": {
      "display_name": "Python 3",
      "language": "python",
      "name": "python3"
    },
    "language_info": {
      "codemirror_mode": {
        "name": "ipython",
        "version": 3
      },
      "file_extension": ".py",
      "mimetype": "text/x-python",
      "name": "python",
      "nbconvert_exporter": "python",
      "pygments_lexer": "ipython3",
      "version": "3.7.10"
    }
  },
  "nbformat": 4,
  "nbformat_minor": 0
}