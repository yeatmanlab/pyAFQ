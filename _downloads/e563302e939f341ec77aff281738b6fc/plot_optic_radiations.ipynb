{
  "cells": [
    {
      "cell_type": "code",
      "execution_count": null,
      "metadata": {
        "collapsed": false
      },
      "outputs": [],
      "source": [
        "%matplotlib inline"
      ]
    },
    {
      "cell_type": "markdown",
      "metadata": {},
      "source": [
        "\n# Plotting the Optic Radiations\n\npyAFQ is designed to be customizable. This example shows how\nyou can customize it to define a new bundle based\non both waypoint ROIs of your design, as well as endpoint\nROIs of your design.\n\nIn these example, we run pyAFQ with both the custom ROIs and\nthe default waypoint ROIs.\n"
      ]
    },
    {
      "cell_type": "code",
      "execution_count": null,
      "metadata": {
        "collapsed": false
      },
      "outputs": [],
      "source": [
        "import os.path as op\nfrom AFQ.api.group import GroupAFQ\nimport AFQ.api.bundle_dict as abd\nimport AFQ.data.fetch as afd\nfrom AFQ.definitions.image import LabelledImageFile, RoiImage\n\nafd.organize_stanford_data(clear_previous_afq=True)\n\nor_rois = afd.read_or_templates()\n\nbundles = abd.BundleDict({\n    \"L_OR\": {\n        \"include\": [\n            or_rois[\"left_OR_1\"],\n            or_rois[\"left_OR_2\"]],\n        \"exclude\": [\n            or_rois[\"left_OP_MNI\"],\n            or_rois[\"left_TP_MNI\"],\n            or_rois[\"left_pos_thal_MNI\"]],\n        \"start\": or_rois['left_thal_MNI'],\n        \"end\": or_rois['left_V1_MNI'],\n        \"cross_midline\": False,\n    },\n    \"R_OR\": {\n        \"include\": [\n            or_rois[\"right_OR_1\"],\n            or_rois[\"right_OR_2\"]],\n        \"exclude\": [\n            or_rois[\"right_OP_MNI\"],\n            or_rois[\"right_TP_MNI\"],\n            or_rois[\"right_pos_thal_MNI\"]],\n        \"start\": or_rois['right_thal_MNI'],\n        \"end\": or_rois['right_V1_MNI'],\n        \"cross_midline\": False\n    }\n})\n\n# combine custom ROIs with default BundleDict ROIs\nbundles = bundles + abd.BundleDict()\n\nbrain_mask_definition = LabelledImageFile(\n    suffix=\"seg\",\n    filters={\"scope\": \"freesurfer\"},\n    exclusive_labels=[0])\n\nmy_afq = GroupAFQ(\n    bids_path=op.join(\n        afd.afq_home,\n        'stanford_hardi'),\n    brain_mask_definition=brain_mask_definition,\n    tracking_params={\"n_seeds\": 3,\n                     \"directions\": \"prob\",\n                     \"odf_model\": \"CSD\",\n                     \"seed_mask\": RoiImage()},\n    bundle_info=bundles)\n\nmy_afq.export_all()"
      ]
    }
  ],
  "metadata": {
    "kernelspec": {
      "display_name": "Python 3",
      "language": "python",
      "name": "python3"
    },
    "language_info": {
      "codemirror_mode": {
        "name": "ipython",
        "version": 3
      },
      "file_extension": ".py",
      "mimetype": "text/x-python",
      "name": "python",
      "nbconvert_exporter": "python",
      "pygments_lexer": "ipython3",
      "version": "3.8.13"
    }
  },
  "nbformat": 4,
  "nbformat_minor": 0
}