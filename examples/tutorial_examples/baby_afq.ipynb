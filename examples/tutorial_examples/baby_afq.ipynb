{
 "cells": [
  {
   "cell_type": "code",
   "execution_count": null,
   "id": "7dd23004",
   "metadata": {},
   "outputs": [],
   "source": [
    "import warnings\n",
    "warnings.filterwarnings(\"ignore\")"
   ]
  },
  {
   "cell_type": "markdown",
   "id": "4a1973ed",
   "metadata": {},
   "source": [
    "# pyAFQ: Automated Fiber Quantification ... in Python"
   ]
  },
  {
   "cell_type": "markdown",
   "id": "44483d42",
   "metadata": {},
   "source": [
    "## This notebook is available at: https://github.com/36000/babyAFQ_example\n"
   ]
  },
  {
   "cell_type": "markdown",
   "id": "2631a596",
   "metadata": {},
   "source": [
    "## Section 1: Four benefits of using pyAFQ compared to matlab AFQ:"
   ]
  },
  {
   "cell_type": "markdown",
   "id": "88b0b126",
   "metadata": {},
   "source": [
    "### 1. Free and open source\n",
    "    1. No need for a MATLAB license"
   ]
  },
  {
   "cell_type": "markdown",
   "id": "3a345b2a",
   "metadata": {},
   "source": [
    "### 2. Easier to run on cloud services\n",
    "    1. For example, Amazon Web Services (AWS) or Microsoft Azure\n",
    "    2. pyAFQ's only dependencies are other python packages which are installed automatically using \"Package Installer for Python (pip)\"\n",
    "![](install_diagram.png)"
   ]
  },
  {
   "cell_type": "markdown",
   "id": "6cbd99d3",
   "metadata": {},
   "source": [
    "### 3. Easier to run on BIDS datasets\n",
    "1. The Brain Imaging Data Structure (BIDS) is a way of organizing neuroimaging and behavioral data\n",
    "2. BIDS is a community effort\n",
    "3. There are many [benefits to BIDS](https://bids.neuroimaging.io/benefits.html):\n",
    "    1. It will be easy for another researcher to work on your data\n",
    "        1. For example, by using BIDS you will save time trying to understand and reuse data acquired by a graduate student or postdoc that has already left the lab.\n",
    "        \n",
    "    2. There is a growing number of data analysis software that understand BIDS data, like pyAFQ\n",
    "    \n",
    "    3. Databases such as OpenNeuro.org, LORIS, COINS, XNAT, SciTran, and others will accept and export datasets organized according to BIDS.\n",
    "        1. If you ever plan to share your data publicly (some journals require this) you can speed up the curation process by using BIDS.\n",
    "        \n",
    "    4. There are validation tools (also available online) that can check your dataset integrity and let you easily spot missing values.\n",
    "    \n",
    "![BIDS diagram](bids_diagram.png)\n",
    "\n",
    "Image source: http://bids.neuroimaging.io/"
   ]
  },
  {
   "cell_type": "markdown",
   "id": "f8cdb35c",
   "metadata": {},
   "source": [
    "### 4. Easier to customize methods and integrate with other pipelines\n",
    "    1. pyAFQ provides tools to import tractography or mori group files from the original Matlab based AFQ to pyAFQ\n",
    "    2. pyAFQ can use tractography from other pipelines like MRtrix3 or Qsiprep which implement other algorithms\n",
    "        like SIFT and ACT\n",
    "\n",
    "#### For babyAFQ, Use MRtrix3 for the tractography: https://www.mrtrix.org/"
   ]
  },
  {
   "cell_type": "markdown",
   "id": "5f834933",
   "metadata": {},
   "source": [
    "## Section 2: Baby pyAFQ code examples"
   ]
  },
  {
   "cell_type": "markdown",
   "id": "96c2ed52",
   "metadata": {},
   "source": [
    "### Step 1: Organizing the data\n",
    "Put your dataset in BIDS. Here is an example dataset with one subject:\n",
    "![Example BIDS](bids_example.png)"
   ]
  },
  {
   "cell_type": "markdown",
   "id": "a7204feb",
   "metadata": {},
   "source": [
    "## This data is available at: https://tinyurl.com/35tptjz9"
   ]
  },
  {
   "cell_type": "markdown",
   "id": "5cb26a48",
   "metadata": {},
   "source": [
    "### Step 2: Initialize a GroupAFQ object\n",
    "Creates a GroupAFQ object, that encapsulates tractometry. This object can be used to manage the entire AFQ pipeline, including:\n",
    "\n",
    "    Tractography\n",
    "\n",
    "    Registration\n",
    "\n",
    "    Segmentation / Bundle Recognition\n",
    "\n",
    "    Cleaning\n",
    "\n",
    "    Profiling\n",
    "\n",
    "    Visualization"
   ]
  },
  {
   "cell_type": "markdown",
   "id": "cbe77e4a",
   "metadata": {},
   "source": [
    "In this case, MRtrix has already done the tractography (visualized using [MI-Brain](https://github.com/imeka/mi-brain)): ![mrtrix_track](3d_screenshot.png)"
   ]
  },
  {
   "cell_type": "code",
   "execution_count": null,
   "id": "efe6998b",
   "metadata": {},
   "outputs": [],
   "source": [
    "from AFQ.api.group import GroupAFQ\n",
    "import AFQ.api.bundle_dict as abd\n",
    "import AFQ.data.fetch as afd\n",
    "from AFQ.definitions.image import LabelledImageFile\n",
    "import plotly\n",
    "\n",
    "myafq = GroupAFQ(\n",
    "    # ==== BIDS parameters ====\n",
    "    bids_path=\"example_bids_subject\",\n",
    "    preproc_pipeline=\"vistasoft\",\n",
    "    # ===== Registration parameters ====\n",
    "    reg_template_spec=afd.read_pediatric_templates()[\"UNCNeo-withCerebellum-for-babyAFQ\"],\n",
    "    reg_subject_spec=\"b0\",\n",
    "    # ==== Bundle parameters ====\n",
    "    bundle_info=abd.PediatricBundleDict(),\n",
    "    # ==== Tracking parameters ====\n",
    "    import_tract={\n",
    "        \"suffix\": \"tractography\", \"scope\": \"mrtrix\"},\n",
    "    # ==== Segmentation parameters ====\n",
    "    segmentation_params={\n",
    "        \"filter_by_endpoints\": False},\n",
    "    clean_params={\n",
    "        'distance_threshold': 4},\n",
    ")"
   ]
  },
  {
   "cell_type": "markdown",
   "id": "43d28f0b",
   "metadata": {},
   "source": [
    "### Step 3: Run pyAFQ\n",
    "After defining your pyAFQ API object, you can ask for the output of any step of the pipeline. It is common for users to just call export_all (for example, myafq.export_all())."
   ]
  },
  {
   "cell_type": "code",
   "execution_count": null,
   "id": "4f9ad529",
   "metadata": {},
   "outputs": [],
   "source": [
    "myafq.export(\"template_xform\")"
   ]
  },
  {
   "cell_type": "markdown",
   "id": "9eeeaa8c",
   "metadata": {},
   "source": [
    "On the left, the babyAFQ template from MNI space has been transformed into the subject's native space. On the right, the subject's b0 is shown for reference.\n",
    "![warped_template](warped_template.png)"
   ]
  },
  {
   "cell_type": "code",
   "execution_count": null,
   "id": "ca8d87f1",
   "metadata": {},
   "outputs": [],
   "source": [
    "bundle_html = myafq.export(\"all_bundles_figure\")\n",
    "plotly.io.show(bundle_html[\"01\"][0])"
   ]
  },
  {
   "cell_type": "code",
   "execution_count": null,
   "id": "96bf335a",
   "metadata": {},
   "outputs": [],
   "source": []
  },
  {
   "cell_type": "markdown",
   "id": "091db304",
   "metadata": {},
   "source": [
    "## Section 3: Two other features"
   ]
  },
  {
   "cell_type": "markdown",
   "id": "a0ad2b83",
   "metadata": {},
   "source": [
    "### 1. Outputs can be used as inputs to AFQ-Insight\n",
    "[AFQ-Insight](https://github.com/richford/AFQ-Insight) is an open source, python based statistical learning library for tractometry. Here are some features:\n",
    "1. Format tract profiles for the popular [scikit-learn](https://scikit-learn.org/stable/) machine learning python library\n",
    "2. Harmonize tract profiles across multiple sites using combat\n",
    "3. Make regression and classification pipelines tailored to tract profiles\n",
    "4. Use neural networks on tract profiles for prediction"
   ]
  },
  {
   "cell_type": "markdown",
   "id": "3a833619",
   "metadata": {},
   "source": [
    "### 2. Using the pyAFQ configuration file\n",
    "pyAFQ provides a [command-line interface (CLI)](https://yeatmanlab.github.io/pyAFQ/usage/index.html). After installing the software, and organizing the data, run:\n",
    "\n",
    "    pyAFQ /path/to/config.toml\n",
    "\n",
    "At minimum, the file should contain the BIDS path:\n",
    "\n",
    "    [BIDS_PARAMS]\n",
    "    bids_path = \"path/to/study\"\n",
    "\n",
    "But additional configuration options can be provided. Here is an example configuration file to run babyAFQ:\n",
    "\n",
    "    [BIDS_PARAMS]\n",
    "    bids_path = \"example_bids_subject\"\n",
    "    preproc_pipeline = \"vistasoft\"\n",
    "\n",
    "    [DATA]\n",
    "    reg_template_spec = \"pediatric\"\n",
    "    reg_subject_spec = \"b0\"\n",
    "    bundle_info=\"PediatricBundleDict()\"\n",
    "\n",
    "    [TRACTOGRAPHY_PARAMS]\n",
    "    import_tract = \"{'suffix': 'tractography', 'scope': 'mrtrix'}\"\n",
    "\n",
    "    [SEGMENTATION_PARAMS]\n",
    "    filter_by_endpoints = false\n",
    "    \n",
    "    [CLEANING_PARAMS]\n",
    "    distance_threshold = 4"
   ]
  },
  {
   "cell_type": "markdown",
   "id": "334881f8",
   "metadata": {},
   "source": [
    "## Section 4: Summary\n",
    "    1. pyAFQ is free and open source (easy to run on the cloud)\n",
    "\n",
    "    2. pyAFQ is easy to install and does not require knowledge of python to use\n",
    "\n",
    "    3. pyAFQ uses BIDS datasets\n",
    "\n",
    "    4. pyAFQ is customizable and integrates with other pipelines like MRtrix\n",
    "  \n",
    "Documentation: https://yeatmanlab.github.io/pyAFQ/ <br />\n",
    "Code: https://github.com/yeatmanlab/pyAFQ <br />"
   ]
  },
  {
   "cell_type": "markdown",
   "id": "4db85fe0",
   "metadata": {},
   "source": [
    "# Thank you for listening!"
   ]
  },
  {
   "cell_type": "code",
   "execution_count": null,
   "id": "6d1cbb6d",
   "metadata": {},
   "outputs": [],
   "source": []
  }
 ],
 "metadata": {
  "kernelspec": {
   "display_name": "Python 3 (ipykernel)",
   "language": "python",
   "name": "python3"
  },
  "language_info": {
   "codemirror_mode": {
    "name": "ipython",
    "version": 3
   },
   "file_extension": ".py",
   "mimetype": "text/x-python",
   "name": "python",
   "nbconvert_exporter": "python",
   "pygments_lexer": "ipython3",
   "version": "3.9.10"
  }
 },
 "nbformat": 4,
 "nbformat_minor": 5
}
